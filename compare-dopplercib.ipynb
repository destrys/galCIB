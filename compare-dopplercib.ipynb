{
 "cells": [
  {
   "attachments": {},
   "cell_type": "markdown",
   "metadata": {},
   "source": [
    "This notebook compares `DopplerCIB` with `galCIB` and checks for any issues. `DopplerCIB` is well-tested and `galCIB` is a derivative of the codebase. "
   ]
  },
  {
   "cell_type": "code",
   "execution_count": 1,
   "metadata": {},
   "outputs": [],
   "source": [
    "%load_ext autoreload\n",
    "%autoreload 2"
   ]
  },
  {
   "cell_type": "code",
   "execution_count": 2,
   "metadata": {},
   "outputs": [
    {
     "name": "stderr",
     "output_type": "stream",
     "text": [
      "/Users/tkarim/opt/anaconda3/envs/cosmo/lib/python3.10/site-packages/pandas/core/arrays/masked.py:60: UserWarning: Pandas requires version '1.3.6' or newer of 'bottleneck' (version '1.3.5' currently installed).\n",
      "  from pandas.core import (\n"
     ]
    }
   ],
   "source": [
    "import numpy as np\n",
    "import pandas as pd\n",
    "import matplotlib.pyplot as plt"
   ]
  },
  {
   "cell_type": "code",
   "execution_count": 3,
   "metadata": {},
   "outputs": [
    {
     "name": "stdout",
     "output_type": "stream",
     "text": [
      "(210,)\n",
      "Note: redshifts have been re-sorted (earliest first)\n"
     ]
    },
    {
     "name": "stderr",
     "output_type": "stream",
     "text": [
      "/Users/tkarim/research/galCIB/powerspectra.py:63: RuntimeWarning: divide by zero encountered in log10\n",
      "  ELL_sampled = np.logspace(np.log10(consts.LMIN),\n",
      "/Users/tkarim/opt/anaconda3/envs/cosmo/lib/python3.10/site-packages/numpy/core/function_base.py:157: RuntimeWarning: invalid value encountered in multiply\n",
      "  y *= step\n",
      "/Users/tkarim/opt/anaconda3/envs/cosmo/lib/python3.10/site-packages/numpy/core/function_base.py:167: RuntimeWarning: invalid value encountered in add\n",
      "  y += start\n"
     ]
    }
   ],
   "source": [
    "# galCIB modules\n",
    "\n",
    "import consts\n",
    "import powerspectra as ps\n",
    "import halo\n",
    "import gal \n",
    "import precalc as pc\n",
    "import cib\n",
    "import cosmology"
   ]
  },
  {
   "cell_type": "code",
   "execution_count": 4,
   "metadata": {},
   "outputs": [],
   "source": [
    "# DopplerCIB modules\n",
    "\n",
    "import sys \n",
    "sys.path.append(\"//Users/tkarim/research/DopplerCIB/\")\n",
    "\n",
    "import CIB_halo as mcib\n",
    "import cosmo_related as mcosmo\n",
    "import input_var_cibmean as minput\n",
    "import Gal_halo as mgh\n",
    "import CIBxGal_halo as mcg\n",
    "import hmf_unfw_bias as mhmf_unfw"
   ]
  },
  {
   "attachments": {},
   "cell_type": "markdown",
   "metadata": {},
   "source": [
    "First initialize relevant `DopplerCIB` objects"
   ]
  },
  {
   "cell_type": "code",
   "execution_count": 5,
   "metadata": {},
   "outputs": [
    {
     "name": "stdout",
     "output_type": "stream",
     "text": [
      "Calculating the halo mass function for given mass and redshift for CIB mean calculations.\n",
      "[39.52037275]\n",
      "5.298428495800479e-17\n",
      "2.4832862197860225e-18\n"
     ]
    }
   ],
   "source": [
    "## initialize cosmo_var_iv and data_var_iv to pass to DopplerCIB\n",
    "\n",
    "cosmo_var = mcosmo.cosmo_var_iv(mass=consts.Mh_Msol,\n",
    "                                z=consts.Plin['z'],\n",
    "                                do_powerspec=1)\n",
    "\n",
    "# experimental specification \n",
    "\n",
    "cib_exp = 'Planck'\n",
    "# color corrections for 100, 143, 217, 353, 545, 857 and 3000 GHz for Planck\n",
    "cc_pl = np.array([1.076, 1.017, 1.119, 1.097, 1.068, 0.995])  # , 0.960])\n",
    "cc = cc_pl  \n",
    "\n",
    "nu0 = np.array([100., 143., 217., 353., 545., 857.]) \n",
    "nus = ['100', '143', '217', '353', '545', '857']\n",
    "# fwhm obtained from https://wiki.cosmos.esa.int/planckpla/index.php/Effective_Beams\n",
    "fwhm = np.array([9.651, 7.248, 4.990, 4.818, 4.682, 4.325])  # in arcmin\n",
    "fwhm_rad = fwhm*(np.pi/180.)/60.\n",
    "# fwhm = 4.8  # 4.8 Planck arcmin # 0.5 CCAT-Prime\n",
    "# 1303.5067 for sensitivity (Tab:4 muK deg & kJy/sr deg)\n",
    "sensitivity_muKarcmin = np.array([108., 48., 60., 210., 1137., 29075.])\n",
    "sensitivity_Jy2_sr = np.array([58., 26.929, 72., 305, 369., 369.])\n",
    "sensitivity_Jy_sr = np.sqrt(sensitivity_Jy2_sr)\n",
    "# sensitivity = 13.5  # 13.5 Planck Jy/sr  # 1.2 CCAT-Prime\n",
    "ell = np.logspace(2, np.log10(2000), 99)\n",
    "fc = np.ones(len(nu0))\n",
    "\n",
    "strfig = \"allcomponents_lognormal_sigevol_1p5zcutoff_nolens_onlyautoshotpar_no3000_gaussian600n857n1200_planck_spire_hmflog10.txt\"\n",
    "cibres = \"/Users/tkarim/research/galCIB/data/one_halo_bestfit_\"+strfig\n",
    "\n",
    "exp = {'name': cib_exp,\n",
    "          'do_cibmean': 0,\n",
    "          'cc': cc,\n",
    "          'fc': fc,\n",
    "          'snuaddr': '/Users/tkarim/research/galCIB/data/filtered_snu_planck.fits',\n",
    "          # 'nu0min': nu0min, 'nu0max': nu0max,\n",
    "          # 'nucen': str(int(nucen)),\n",
    "          'nu0': nu0,\n",
    "          'ell': ell,\n",
    "          'fwhm': fwhm,\n",
    "          'sensitivity': sensitivity_Jy_sr,\n",
    "          'cibpar_resfile': cibres,\n",
    "          'nu_string': nus}\n",
    "\n",
    "## initialize data_var_iv \n",
    "data_var_iv = minput.data_var_iv(exp = exp)\n",
    "\n",
    "## initialize CIBXGal_halo.py\n",
    "mcibgal_obj_pk = mcg.CIBxgal(data_var_iv=data_var_iv,\n",
    "                          cosmo_var_iv=cosmo_var,\n",
    "                          gal_exp='DESI_ELG',\n",
    "                          r_l=1)\n",
    "mgal_obj = mgh.ProfHODMore15(data_var_iv, cosmo_var, gal_exp='DESI_ELG')"
   ]
  },
  {
   "cell_type": "code",
   "execution_count": null,
   "metadata": {},
   "outputs": [],
   "source": []
  }
 ],
 "metadata": {
  "kernelspec": {
   "display_name": "cosmo",
   "language": "python",
   "name": "python3"
  },
  "language_info": {
   "codemirror_mode": {
    "name": "ipython",
    "version": 3
   },
   "file_extension": ".py",
   "mimetype": "text/x-python",
   "name": "python",
   "nbconvert_exporter": "python",
   "pygments_lexer": "ipython3",
   "version": "3.10.11"
  },
  "orig_nbformat": 4
 },
 "nbformat": 4,
 "nbformat_minor": 2
}
