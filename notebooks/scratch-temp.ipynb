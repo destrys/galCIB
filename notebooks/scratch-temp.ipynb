{
 "cells": [
  {
   "cell_type": "code",
   "execution_count": 1,
   "metadata": {},
   "outputs": [],
   "source": [
    "%load_ext autoreload\n",
    "%autoreload 2"
   ]
  },
  {
   "cell_type": "code",
   "execution_count": 2,
   "metadata": {},
   "outputs": [],
   "source": [
    "import numpy as np\n",
    "from colossus.cosmology import cosmology as cc\n",
    "\n",
    "import matplotlib.pyplot as plt"
   ]
  },
  {
   "attachments": {},
   "cell_type": "markdown",
   "metadata": {},
   "source": [
    "Test Pk between colossus and camb"
   ]
  },
  {
   "cell_type": "code",
   "execution_count": 3,
   "metadata": {},
   "outputs": [],
   "source": [
    "from galCIB import Cosmology"
   ]
  },
  {
   "cell_type": "code",
   "execution_count": 6,
   "metadata": {},
   "outputs": [],
   "source": [
    "zs = np.linspace(0.5, 1.5, 20)\n",
    "ks = np.logspace(-3,1,500)\n",
    "Mh = np.logspace(7,15,100)"
   ]
  },
  {
   "cell_type": "code",
   "execution_count": 17,
   "metadata": {},
   "outputs": [],
   "source": [
    "tst = Cosmology(zs,ks,Mh,use_little_h=True)"
   ]
  },
  {
   "cell_type": "code",
   "execution_count": 18,
   "metadata": {},
   "outputs": [
    {
     "data": {
      "text/plain": [
       "(500, 20)"
      ]
     },
     "execution_count": 18,
     "metadata": {},
     "output_type": "execute_result"
    }
   ],
   "source": [
    "tst.get_pk_grid().shape"
   ]
  },
  {
   "cell_type": "code",
   "execution_count": 43,
   "metadata": {},
   "outputs": [
    {
     "data": {
      "text/plain": [
       "1946.386874732119"
      ]
     },
     "execution_count": 43,
     "metadata": {},
     "output_type": "execute_result"
    }
   ],
   "source": [
    "tst.cosmo.comovingDistance(0,0.5, transverse=True)/tst.cosmo.h"
   ]
  },
  {
   "cell_type": "code",
   "execution_count": 44,
   "metadata": {},
   "outputs": [],
   "source": [
    "from astropy.cosmology import Planck18 as planck"
   ]
  },
  {
   "cell_type": "code",
   "execution_count": 45,
   "metadata": {},
   "outputs": [
    {
     "data": {
      "text/latex": [
       "$1946.4166 \\; \\mathrm{Mpc}$"
      ],
      "text/plain": [
       "<Quantity 1946.41663479 Mpc>"
      ]
     },
     "execution_count": 45,
     "metadata": {},
     "output_type": "execute_result"
    }
   ],
   "source": [
    "planck.comoving_distance(0.5)"
   ]
  },
  {
   "cell_type": "code",
   "execution_count": 47,
   "metadata": {},
   "outputs": [
    {
     "data": {
      "text/plain": [
       "array([ 89.23001615,  92.12072101,  95.11700081,  98.21554727,\n",
       "       101.41314063, 104.70666752, 108.09313337, 111.56967017,\n",
       "       115.13354073, 118.78213994, 122.51299389, 126.3237573 ,\n",
       "       130.21220967, 134.17625066, 138.21389479, 142.32326592,\n",
       "       146.50259142, 150.75019646, 155.0644983 , 159.44400066])"
      ]
     },
     "execution_count": 47,
     "metadata": {},
     "output_type": "execute_result"
    }
   ],
   "source": [
    "tst.cosmo.Hz(zs)"
   ]
  },
  {
   "cell_type": "code",
   "execution_count": 48,
   "metadata": {},
   "outputs": [
    {
     "data": {
      "text/latex": [
       "$[89.227193,~92.117528,~95.113424,~98.211574,~101.40876,~104.70187,~108.0879,~111.56399,~115.1274,~118.77553,~122.50591,~126.31618,~130.20412,~134.16765,~138.20476,~142.31359,~146.49236,~150.7394,~155.05312,~159.43203] \\; \\mathrm{\\frac{km}{Mpc\\,s}}$"
      ],
      "text/plain": [
       "<Quantity [ 89.22719344,  92.11752752,  95.11342383,  98.21157428,\n",
       "           101.40875928, 104.70186558, 108.08789867, 111.56399062,\n",
       "           115.12740422, 118.77553438, 122.50590717, 126.31617726,\n",
       "           130.20412409, 134.16764725, 138.20476119, 142.31358965,\n",
       "           146.49235995, 150.73939714, 155.05311836, 159.43202724] km / (Mpc s)>"
      ]
     },
     "execution_count": 48,
     "metadata": {},
     "output_type": "execute_result"
    }
   ],
   "source": [
    "planck.H(zs)"
   ]
  },
  {
   "cell_type": "code",
   "execution_count": null,
   "metadata": {},
   "outputs": [],
   "source": []
  },
  {
   "attachments": {},
   "cell_type": "markdown",
   "metadata": {},
   "source": [
    "- 1: Specify cosmology\n",
    "- 2: Specify survey"
   ]
  },
  {
   "cell_type": "code",
   "execution_count": null,
   "metadata": {},
   "outputs": [],
   "source": []
  }
 ],
 "metadata": {
  "kernelspec": {
   "display_name": "cosmo",
   "language": "python",
   "name": "python3"
  },
  "language_info": {
   "codemirror_mode": {
    "name": "ipython",
    "version": 3
   },
   "file_extension": ".py",
   "mimetype": "text/x-python",
   "name": "python",
   "nbconvert_exporter": "python",
   "pygments_lexer": "ipython3",
   "version": "3.10.11"
  },
  "orig_nbformat": 4
 },
 "nbformat": 4,
 "nbformat_minor": 2
}
