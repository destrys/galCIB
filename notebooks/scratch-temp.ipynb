{
 "cells": [
  {
   "cell_type": "code",
   "execution_count": 1,
   "metadata": {},
   "outputs": [],
   "source": [
    "%load_ext autoreload\n",
    "%autoreload 2"
   ]
  },
  {
   "cell_type": "code",
   "execution_count": 2,
   "metadata": {},
   "outputs": [],
   "source": [
    "import numpy as np\n",
    "#from colossus.cosmology import cosmology as cc\n",
    "\n",
    "import matplotlib.pyplot as plt"
   ]
  },
  {
   "cell_type": "code",
   "execution_count": 6,
   "metadata": {},
   "outputs": [
    {
     "name": "stdout",
     "output_type": "stream",
     "text": [
      "[0.00000000e+00 0.00000000e+00 0.00000000e+00 0.00000000e+00\n",
      " 0.00000000e+00 0.00000000e+00 0.00000000e+00 5.55111512e-17\n",
      " 1.05471187e-14 1.48414614e-12 1.35382372e-10 8.01798555e-09\n",
      " 3.08954852e-07 7.76712747e-06 1.27884798e-04 1.38645357e-03\n",
      " 9.97488293e-03 4.81831784e-02 1.59098451e-01 3.69337149e-01\n",
      " 6.29659323e-01 8.40256300e-01 9.51550060e-01 9.89954206e-01\n",
      " 9.98601426e-01 9.99870783e-01 9.99992139e-01 9.99999687e-01\n",
      " 9.99999992e-01 1.00000000e+00 1.00000000e+00 1.00000000e+00\n",
      " 1.00000000e+00 1.00000000e+00 1.00000000e+00 1.00000000e+00\n",
      " 1.00000000e+00 1.00000000e+00 1.00000000e+00 1.00000000e+00\n",
      " 1.00000000e+00 1.00000000e+00 1.00000000e+00 1.00000000e+00\n",
      " 1.00000000e+00 1.00000000e+00 1.00000000e+00 1.00000000e+00\n",
      " 1.00000000e+00 1.00000000e+00]\n"
     ]
    }
   ],
   "source": [
    "from galCIB import get_hod_model\n",
    "\n",
    "\n",
    "Mh = np.logspace(10, 15, 50)\n",
    "z = np.ones_like(Mh) * 1.0\n",
    "theta = [12.0, -0.02, 0.5]  # Example theta_cen\n",
    "\n",
    "model = get_hod_model(\"Zheng05\",z)\n",
    "print(model.ncen(Mh, theta))\n"
   ]
  },
  {
   "cell_type": "code",
   "execution_count": 7,
   "metadata": {},
   "outputs": [
    {
     "data": {
      "text/plain": [
       "[<matplotlib.lines.Line2D at 0x1378d9690>]"
      ]
     },
     "execution_count": 7,
     "metadata": {},
     "output_type": "execute_result"
    },
    {
     "data": {
      "image/png": "[encoded data removed]",
      "text/plain": [
       "<Figure size 640x480 with 1 Axes>"
      ]
     },
     "metadata": {},
     "output_type": "display_data"
    }
   ],
   "source": [
    "plt.loglog(Mh, model.ncen(Mh, theta))"
   ]
  },
  {
   "cell_type": "code",
   "execution_count": null,
   "metadata": {},
   "outputs": [],
   "source": []
  },
  {
   "cell_type": "code",
   "execution_count": null,
   "metadata": {},
   "outputs": [],
   "source": []
  },
  {
   "attachments": {},
   "cell_type": "markdown",
   "metadata": {},
   "source": [
    "Test Pk between colossus and camb"
   ]
  },
  {
   "cell_type": "code",
   "execution_count": 3,
   "metadata": {},
   "outputs": [],
   "source": [
    "from galCIB import Cosmology\n",
    "from galCIB import Survey\n",
    "from galCIB import get_hod_model\n",
    "\n",
    "import numpy as np"
   ]
  },
  {
   "cell_type": "code",
   "execution_count": 4,
   "metadata": {},
   "outputs": [],
   "source": [
    "zs = np.linspace(0.5, 1.5, 20)\n",
    "\n",
    "sigma = 0.79\n",
    "mu = 0.4\n",
    "pz = np.sqrt(2/np.pi)/sigma * np.exp(-0.5 * ((zs - mu)/sigma)**2)\n",
    "\n",
    "# pz renorm such that integral p(z) dz = 1\n",
    "pz = pz/(pz.sum() * np.diff(zs)[0])\n",
    "\n",
    "ks = np.logspace(-3,1,500)\n",
    "Mh = np.logspace(7,15,100)"
   ]
  },
  {
   "cell_type": "code",
   "execution_count": 6,
   "metadata": {},
   "outputs": [],
   "source": [
    "cosmo = Cosmology(zs,ks,Mh,use_little_h=True)"
   ]
  },
  {
   "cell_type": "code",
   "execution_count": 8,
   "metadata": {},
   "outputs": [
    {
     "data": {
      "text/plain": [
       "array([ 482.70107107,  514.48293742,  548.49492683,  584.81270793,\n",
       "        623.51195399,  664.66834297,  708.35755748,  754.65528483,\n",
       "        803.63721696,  855.37905053,  909.95648684,  967.44523185,\n",
       "       1027.92099623, 1091.45949529, 1158.13644902, 1228.02758208,\n",
       "       1301.20862381, 1377.75530819, 1457.74337392, 1541.24856433])"
      ]
     },
     "execution_count": 8,
     "metadata": {},
     "output_type": "execute_result"
    }
   ],
   "source": [
    "cosmo.cosmo.rho_c(cosmo.z)"
   ]
  },
  {
   "cell_type": "code",
   "execution_count": 16,
   "metadata": {},
   "outputs": [],
   "source": [
    "from astropy.cosmology import Planck18 as planck\n",
    "import astropy.units as u\n",
    "import astropy.cosmology.units as cu"
   ]
  },
  {
   "cell_type": "code",
   "execution_count": 26,
   "metadata": {},
   "outputs": [
    {
     "data": {
      "text/latex": [
       "$[2.2096057 \\times 10^{11},~2.3550756 \\times 10^{11},~2.5107527 \\times 10^{11},~2.6769832 \\times 10^{11},~2.8541135 \\times 10^{11},~3.0424899 \\times 10^{11},~3.2424587 \\times 10^{11},~3.4543663 \\times 10^{11},~3.678559 \\times 10^{11},~3.9153834 \\times 10^{11},~4.1651857 \\times 10^{11},~4.4283124 \\times 10^{11},~4.7051101 \\times 10^{11},~4.9959251 \\times 10^{11},~5.3011039 \\times 10^{11},~5.6209931 \\times 10^{11},~5.9559392 \\times 10^{11},~6.3062888 \\times 10^{11},~6.6723884 \\times 10^{11},~7.0545846 \\times 10^{11}] \\; \\mathrm{\\frac{M_{\\odot}}{Mpc^{3}}}$"
      ],
      "text/plain": [
       "<Quantity [2.20960565e+11, 2.35507559e+11, 2.51075269e+11, 2.67698324e+11,\n",
       "           2.85411353e+11, 3.04248991e+11, 3.24245871e+11, 3.45436629e+11,\n",
       "           3.67855905e+11, 3.91538337e+11, 4.16518569e+11, 4.42831243e+11,\n",
       "           4.70511006e+11, 4.99592505e+11, 5.30110389e+11, 5.62099311e+11,\n",
       "           5.95593922e+11, 6.30628878e+11, 6.67238836e+11, 7.05458455e+11] solMass / Mpc3>"
      ]
     },
     "execution_count": 26,
     "metadata": {},
     "output_type": "execute_result"
    }
   ],
   "source": [
    "planck.critical_density(cosmo.z).to((u.Msun)/u.Mpc**3)# /cosmo.cosmo.h**2"
   ]
  },
  {
   "cell_type": "code",
   "execution_count": 29,
   "metadata": {},
   "outputs": [
    {
     "data": {
      "text/plain": [
       "Equivalency([(Unit(\"1.47798 littleh\"), None)])"
      ]
     },
     "execution_count": 29,
     "metadata": {},
     "output_type": "execute_result"
    }
   ],
   "source": [
    "cu.with_H0(cosmo.H0*u.km/u.s/u.Mpc)"
   ]
  },
  {
   "cell_type": "code",
   "execution_count": 31,
   "metadata": {},
   "outputs": [
    {
     "data": {
      "text/latex": [
       "$[482.70107,~514.48294,~548.49493,~584.81271,~623.51195,~664.66834,~708.35756,~754.65528,~803.63722,~855.37905,~909.95649,~967.44523,~1027.921,~1091.4595,~1158.1364,~1228.0276,~1301.2086,~1377.7553,~1457.7434,~1541.2486] \\; \\mathrm{\\frac{h_{100}^{2}\\,M_{\\odot}}{kpc^{3}}}$"
      ],
      "text/plain": [
       "<Quantity [ 482.70107107,  514.48293742,  548.49492683,  584.81270793,\n",
       "            623.51195399,  664.66834297,  708.35755748,  754.65528483,\n",
       "            803.63721696,  855.37905053,  909.95648684,  967.44523185,\n",
       "           1027.92099623, 1091.45949529, 1158.13644902, 1228.02758208,\n",
       "           1301.20862381, 1377.75530819, 1457.74337392, 1541.24856433] littleh2 solMass / kpc3>"
      ]
     },
     "execution_count": 31,
     "metadata": {},
     "output_type": "execute_result"
    }
   ],
   "source": [
    "tst = cosmo.cosmo.rho_c(cosmo.z) * (u.Msun * cu.littleh**2/u.kpc**3)\n",
    "tst"
   ]
  },
  {
   "cell_type": "code",
   "execution_count": 34,
   "metadata": {},
   "outputs": [
    {
     "data": {
      "text/plain": [
       "array([2.20974546e+11, 2.35523889e+11, 2.51094154e+11, 2.67719983e+11,\n",
       "       2.85436016e+11, 3.04276899e+11, 3.24277278e+11, 3.45471801e+11,\n",
       "       3.67895121e+11, 3.91581888e+11, 4.16566760e+11, 4.42884392e+11,\n",
       "       4.70569445e+11, 4.99656579e+11, 5.30180459e+11, 5.62175750e+11,\n",
       "       5.95677121e+11, 6.30719241e+11, 6.67336782e+11, 7.05564420e+11])"
      ]
     },
     "execution_count": 34,
     "metadata": {},
     "output_type": "execute_result"
    }
   ],
   "source": [
    "tst.to(u.Msun/u.Mpc**3, \n",
    "       cu.with_H0(cosmo.H0*u.km/u.s/u.Mpc)).value"
   ]
  },
  {
   "cell_type": "code",
   "execution_count": 37,
   "metadata": {},
   "outputs": [],
   "source": [
    "from colossus.cosmology import cosmology\n",
    "cosmoc = cosmology.setCosmology('planck18')"
   ]
  },
  {
   "cell_type": "code",
   "execution_count": 43,
   "metadata": {},
   "outputs": [],
   "source": [
    "tst1 = cosmoc.matterPowerSpectrum(cosmo.k,cosmo.z[0],\n",
    "                          model = 'camb',\n",
    "                          derivative = True)\n",
    "\n",
    "tst2 = cosmoc.matterPowerSpectrum(cosmo.k,cosmo.z[10],\n",
    "                          model = 'camb',\n",
    "                          derivative = True)\n",
    "\n",
    "tst3 = cosmoc.matterPowerSpectrum(cosmo.k,cosmo.z[5],\n",
    "                          model = 'camb',\n",
    "                          derivative = True)"
   ]
  },
  {
   "cell_type": "code",
   "execution_count": 46,
   "metadata": {},
   "outputs": [
    {
     "data": {
      "text/plain": [
       "[<matplotlib.lines.Line2D at 0x13f3dd6c0>]"
      ]
     },
     "execution_count": 46,
     "metadata": {},
     "output_type": "execute_result"
    },
    {
     "data": {
      "image/png": "[encoded data removed]",
      "text/plain": [
       "<Figure size 640x480 with 1 Axes>"
      ]
     },
     "metadata": {},
     "output_type": "display_data"
    }
   ],
   "source": [
    "plt.semilogx(cosmo.k, tst1)\n",
    "plt.semilogx(cosmo.k, tst2)\n",
    "plt.semilogx(cosmo.k, tst3)"
   ]
  },
  {
   "cell_type": "code",
   "execution_count": null,
   "metadata": {},
   "outputs": [],
   "source": [
    "grad = np.zeros(self.power.shape, float)\n",
    "grad[0:-1] = np.diff(np.log(self.power)) / np.diff(np.log(self.kk))\n",
    "grad[-1] = (np.log(self.power[-1]) - np.log(self.power[-2]))/(np.log(self.kk[-1]) - np.log(self.kk[-2]))\n",
    "# grad_smoothed = savgol_filter(grad, 51, 2)\n",
    "grad_smoothed = grad"
   ]
  },
  {
   "cell_type": "code",
   "execution_count": 51,
   "metadata": {},
   "outputs": [
    {
     "data": {
      "text/plain": [
       "(500,)"
      ]
     },
     "execution_count": 51,
     "metadata": {},
     "output_type": "execute_result"
    }
   ],
   "source": [
    ".shape"
   ]
  },
  {
   "cell_type": "code",
   "execution_count": 53,
   "metadata": {},
   "outputs": [],
   "source": [
    "tmp = np.diff(np.log(cosmo.get_pk_grid()[:,0]))/np.diff(np.log(cosmo.k))"
   ]
  },
  {
   "cell_type": "code",
   "execution_count": 55,
   "metadata": {},
   "outputs": [
    {
     "data": {
      "text/plain": [
       "[<matplotlib.lines.Line2D at 0x13f729900>]"
      ]
     },
     "execution_count": 55,
     "metadata": {},
     "output_type": "execute_result"
    },
    {
     "data": {
      "image/png": "[encoded data removed]",
      "text/plain": [
       "<Figure size 640x480 with 1 Axes>"
      ]
     },
     "metadata": {},
     "output_type": "display_data"
    }
   ],
   "source": [
    "plt.semilogx(cosmo.k[:-1], tmp)\n",
    "plt.semilogx(cosmo.k, tst1)"
   ]
  },
  {
   "cell_type": "code",
   "execution_count": null,
   "metadata": {},
   "outputs": [],
   "source": []
  },
  {
   "cell_type": "code",
   "execution_count": 56,
   "metadata": {},
   "outputs": [],
   "source": [
    "from colossus.halo import concentration "
   ]
  },
  {
   "cell_type": "code",
   "execution_count": 57,
   "metadata": {},
   "outputs": [
    {
     "name": "stdout",
     "output_type": "stream",
     "text": [
      "bullock01\n",
      "duffy08\n",
      "klypin11\n",
      "prada12\n",
      "bhattacharya13\n",
      "dutton14\n",
      "diemer15_orig\n",
      "diemer15\n",
      "klypin16_m\n",
      "klypin16_nu\n",
      "ludlow16\n",
      "child18\n",
      "diemer19\n",
      "ishiyama21\n"
     ]
    }
   ],
   "source": [
    "for model_name in concentration.models:\n",
    "    print(model_name)"
   ]
  },
  {
   "cell_type": "code",
   "execution_count": null,
   "metadata": {},
   "outputs": [],
   "source": []
  },
  {
   "cell_type": "code",
   "execution_count": 63,
   "metadata": {},
   "outputs": [
    {
     "data": {
      "text/latex": [
       "$[10000000,~12045035,~14508288,~17475284,~21049041,~25353645,~30538555,~36783798,~44306215,~53366992,~64280731,~77426368,~93260335,~1.123324 \\times 10^{8},~1.3530478 \\times 10^{8},~1.6297508 \\times 10^{8},~1.9630407 \\times 10^{8},~2.3644894 \\times 10^{8},~2.8480359 \\times 10^{8},~3.4304693 \\times 10^{8},~4.1320124 \\times 10^{8},~4.9770236 \\times 10^{8},~5.9948425 \\times 10^{8},~7.220809 \\times 10^{8},~8.69749 \\times 10^{8},~1.0476158 \\times 10^{9},~1.2618569 \\times 10^{9},~1.5199111 \\times 10^{9},~1.8307383 \\times 10^{9},~2.2051307 \\times 10^{9},~2.6560878 \\times 10^{9},~3.1992671 \\times 10^{9},~3.8535286 \\times 10^{9},~4.6415888 \\times 10^{9},~5.5908102 \\times 10^{9},~6.7341507 \\times 10^{9},~8.1113083 \\times 10^{9},~9.7700996 \\times 10^{9},~1.176812 \\times 10^{10},~1.4174742 \\times 10^{10},~1.7073526 \\times 10^{10},~2.0565123 \\times 10^{10},~2.4770764 \\times 10^{10},~2.9836472 \\times 10^{10},~3.5938137 \\times 10^{10},~4.3287613 \\times 10^{10},~5.2140083 \\times 10^{10},~6.2802914 \\times 10^{10},~7.5646333 \\times 10^{10},~9.1116276 \\times 10^{10},~1.0974988 \\times 10^{11},~1.3219411 \\times 10^{11},~1.5922828 \\times 10^{11},~1.9179103 \\times 10^{11},~2.3101297 \\times 10^{11},~2.7825594 \\times 10^{11},~3.3516027 \\times 10^{11},~4.0370173 \\times 10^{11},~4.8626016 \\times 10^{11},~5.8570208 \\times 10^{11},~7.0548023 \\times 10^{11},~8.4975344 \\times 10^{11},~1.023531 \\times 10^{12},~1.2328467 \\times 10^{12},~1.4849683 \\times 10^{12},~1.7886495 \\times 10^{12},~2.1544347 \\times 10^{12},~2.5950242 \\times 10^{12},~3.1257158 \\times 10^{12},~3.7649358 \\times 10^{12},~4.5348785 \\times 10^{12},~5.4622772 \\times 10^{12},~6.5793322 \\times 10^{12},~7.924829 \\times 10^{12},~9.5454846 \\times 10^{12},~1.149757 \\times 10^{13},~1.3848864 \\times 10^{13},~1.6681005 \\times 10^{13},~2.009233 \\times 10^{13},~2.4201283 \\times 10^{13},~2.9150531 \\times 10^{13},~3.5111917 \\times 10^{13},~4.2292429 \\times 10^{13},~5.094138 \\times 10^{13},~6.1359073 \\times 10^{13},~7.390722 \\times 10^{13},~8.9021509 \\times 10^{13},~1.0722672 \\times 10^{14},~1.2915497 \\times 10^{14},~1.5556761 \\times 10^{14},~1.8738174 \\times 10^{14},~2.2570197 \\times 10^{14},~2.7185882 \\times 10^{14},~3.2745492 \\times 10^{14},~3.9442061 \\times 10^{14},~4.7508102 \\times 10^{14},~5.7223677 \\times 10^{14},~6.8926121 \\times 10^{14},~8.3021757 \\times 10^{14},~1 \\times 10^{15}] \\; \\mathrm{M_{\\odot}}$"
      ],
      "text/plain": [
       "<Quantity [1.00000000e+07, 1.20450354e+07, 1.45082878e+07, 1.74752840e+07,\n",
       "           2.10490414e+07, 2.53536449e+07, 3.05385551e+07, 3.67837977e+07,\n",
       "           4.43062146e+07, 5.33669923e+07, 6.42807312e+07, 7.74263683e+07,\n",
       "           9.32603347e+07, 1.12332403e+08, 1.35304777e+08, 1.62975083e+08,\n",
       "           1.96304065e+08, 2.36448941e+08, 2.84803587e+08, 3.43046929e+08,\n",
       "           4.13201240e+08, 4.97702356e+08, 5.99484250e+08, 7.22080902e+08,\n",
       "           8.69749003e+08, 1.04761575e+09, 1.26185688e+09, 1.51991108e+09,\n",
       "           1.83073828e+09, 2.20513074e+09, 2.65608778e+09, 3.19926714e+09,\n",
       "           3.85352859e+09, 4.64158883e+09, 5.59081018e+09, 6.73415066e+09,\n",
       "           8.11130831e+09, 9.77009957e+09, 1.17681195e+10, 1.41747416e+10,\n",
       "           1.70735265e+10, 2.05651231e+10, 2.47707636e+10, 2.98364724e+10,\n",
       "           3.59381366e+10, 4.32876128e+10, 5.21400829e+10, 6.28029144e+10,\n",
       "           7.56463328e+10, 9.11162756e+10, 1.09749877e+11, 1.32194115e+11,\n",
       "           1.59228279e+11, 1.91791026e+11, 2.31012970e+11, 2.78255940e+11,\n",
       "           3.35160265e+11, 4.03701726e+11, 4.86260158e+11, 5.85702082e+11,\n",
       "           7.05480231e+11, 8.49753436e+11, 1.02353102e+12, 1.23284674e+12,\n",
       "           1.48496826e+12, 1.78864953e+12, 2.15443469e+12, 2.59502421e+12,\n",
       "           3.12571585e+12, 3.76493581e+12, 4.53487851e+12, 5.46227722e+12,\n",
       "           6.57933225e+12, 7.92482898e+12, 9.54548457e+12, 1.14975700e+13,\n",
       "           1.38488637e+13, 1.66810054e+13, 2.00923300e+13, 2.42012826e+13,\n",
       "           2.91505306e+13, 3.51119173e+13, 4.22924287e+13, 5.09413801e+13,\n",
       "           6.13590727e+13, 7.39072203e+13, 8.90215085e+13, 1.07226722e+14,\n",
       "           1.29154967e+14, 1.55567614e+14, 1.87381742e+14, 2.25701972e+14,\n",
       "           2.71858824e+14, 3.27454916e+14, 3.94420606e+14, 4.75081016e+14,\n",
       "           5.72236766e+14, 6.89261210e+14, 8.30217568e+14, 1.00000000e+15] solMass>"
      ]
     },
     "execution_count": 63,
     "metadata": {},
     "output_type": "execute_result"
    }
   ],
   "source": [
    "Mh_in_units = (cosmo.Mh * u.Msun)\n",
    "Mh_in_units"
   ]
  },
  {
   "cell_type": "code",
   "execution_count": 66,
   "metadata": {},
   "outputs": [],
   "source": [
    "Mh_in_littleh = Mh_in_units.to(u.Msun/cu.littleh,\n",
    "               cu.with_H0(cosmo.H0*u.km/u.s/u.Mpc))"
   ]
  },
  {
   "cell_type": "code",
   "execution_count": 47,
   "metadata": {},
   "outputs": [],
   "source": [
    "DESI = Survey(zs, pz, 1.5, \"DESI\")"
   ]
  },
  {
   "cell_type": "code",
   "execution_count": 58,
   "metadata": {},
   "outputs": [],
   "source": [
    "DESI.compute_windows(cosmo)"
   ]
  },
  {
   "cell_type": "code",
   "execution_count": 61,
   "metadata": {},
   "outputs": [
    {
     "data": {
      "text/plain": [
       "[<matplotlib.lines.Line2D at 0x13d631360>]"
      ]
     },
     "execution_count": 61,
     "metadata": {},
     "output_type": "execute_result"
    },
    {
     "data": {
      "image/png": "[encoded data removed]",
      "text/plain": [
       "<Figure size 640x480 with 1 Axes>"
      ]
     },
     "metadata": {},
     "output_type": "display_data"
    }
   ],
   "source": [
    "plt.plot(DESI.z, DESI.Wg)\n",
    "plt.plot(DESI.z, DESI.Wcib)"
   ]
  },
  {
   "cell_type": "code",
   "execution_count": null,
   "metadata": {},
   "outputs": [],
   "source": []
  },
  {
   "cell_type": "code",
   "execution_count": null,
   "metadata": {},
   "outputs": [],
   "source": []
  },
  {
   "cell_type": "code",
   "execution_count": null,
   "metadata": {},
   "outputs": [],
   "source": []
  },
  {
   "cell_type": "code",
   "execution_count": null,
   "metadata": {},
   "outputs": [],
   "source": []
  },
  {
   "cell_type": "code",
   "execution_count": 18,
   "metadata": {},
   "outputs": [
    {
     "data": {
      "text/plain": [
       "(500, 20)"
      ]
     },
     "execution_count": 18,
     "metadata": {},
     "output_type": "execute_result"
    }
   ],
   "source": [
    "tst.get_pk_grid().shape"
   ]
  },
  {
   "cell_type": "code",
   "execution_count": 43,
   "metadata": {},
   "outputs": [
    {
     "data": {
      "text/plain": [
       "1946.386874732119"
      ]
     },
     "execution_count": 43,
     "metadata": {},
     "output_type": "execute_result"
    }
   ],
   "source": [
    "tst.cosmo.comovingDistance(0,0.5, transverse=True)/tst.cosmo.h"
   ]
  },
  {
   "cell_type": "code",
   "execution_count": 44,
   "metadata": {},
   "outputs": [],
   "source": [
    "from astropy.cosmology import Planck18 as planck"
   ]
  },
  {
   "cell_type": "code",
   "execution_count": 45,
   "metadata": {},
   "outputs": [
    {
     "data": {
      "text/latex": [
       "$1946.4166 \\; \\mathrm{Mpc}$"
      ],
      "text/plain": [
       "<Quantity 1946.41663479 Mpc>"
      ]
     },
     "execution_count": 45,
     "metadata": {},
     "output_type": "execute_result"
    }
   ],
   "source": [
    "planck.comoving_distance(0.5)"
   ]
  },
  {
   "cell_type": "code",
   "execution_count": 49,
   "metadata": {},
   "outputs": [
    {
     "data": {
      "text/plain": [
       "67.66"
      ]
     },
     "execution_count": 49,
     "metadata": {},
     "output_type": "execute_result"
    }
   ],
   "source": [
    "tst.cosmo.H0"
   ]
  },
  {
   "cell_type": "code",
   "execution_count": 48,
   "metadata": {},
   "outputs": [
    {
     "data": {
      "text/latex": [
       "$[89.227193,~92.117528,~95.113424,~98.211574,~101.40876,~104.70187,~108.0879,~111.56399,~115.1274,~118.77553,~122.50591,~126.31618,~130.20412,~134.16765,~138.20476,~142.31359,~146.49236,~150.7394,~155.05312,~159.43203] \\; \\mathrm{\\frac{km}{Mpc\\,s}}$"
      ],
      "text/plain": [
       "<Quantity [ 89.22719344,  92.11752752,  95.11342383,  98.21157428,\n",
       "           101.40875928, 104.70186558, 108.08789867, 111.56399062,\n",
       "           115.12740422, 118.77553438, 122.50590717, 126.31617726,\n",
       "           130.20412409, 134.16764725, 138.20476119, 142.31358965,\n",
       "           146.49235995, 150.73939714, 155.05311836, 159.43202724] km / (Mpc s)>"
      ]
     },
     "execution_count": 48,
     "metadata": {},
     "output_type": "execute_result"
    }
   ],
   "source": [
    "planck.H(zs)"
   ]
  },
  {
   "cell_type": "code",
   "execution_count": 50,
   "metadata": {},
   "outputs": [
    {
     "data": {
      "text/plain": [
       "0.3111"
      ]
     },
     "execution_count": 50,
     "metadata": {},
     "output_type": "execute_result"
    }
   ],
   "source": [
    "tst.cosmo.Om0"
   ]
  },
  {
   "attachments": {},
   "cell_type": "markdown",
   "metadata": {},
   "source": [
    "- 1: Specify cosmology\n",
    "- 2: Specify survey"
   ]
  },
  {
   "cell_type": "code",
   "execution_count": null,
   "metadata": {},
   "outputs": [],
   "source": []
  }
 ],
 "metadata": {
  "kernelspec": {
   "display_name": "cosmo",
   "language": "python",
   "name": "python3"
  },
  "language_info": {
   "codemirror_mode": {
    "name": "ipython",
    "version": 3
   },
   "file_extension": ".py",
   "mimetype": "text/x-python",
   "name": "python",
   "nbconvert_exporter": "python",
   "pygments_lexer": "ipython3",
   "version": "3.10.11"
  },
  "orig_nbformat": 4
 },
 "nbformat": 4,
 "nbformat_minor": 2
}
