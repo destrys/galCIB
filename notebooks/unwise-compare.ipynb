{
 "cells": [
  {
   "attachments": {},
   "cell_type": "markdown",
   "metadata": {},
   "source": [
    "This notebook replicates the UNWISE X CIB analysis. "
   ]
  },
  {
   "cell_type": "code",
   "execution_count": null,
   "metadata": {},
   "outputs": [],
   "source": [
    "%load_ext autoreload\n",
    "%autoreload 2"
   ]
  },
  {
   "cell_type": "code",
   "execution_count": 1,
   "metadata": {},
   "outputs": [
    {
     "name": "stderr",
     "output_type": "stream",
     "text": [
      "/Users/tkarim/opt/anaconda3/envs/cosmo/lib/python3.10/site-packages/pandas/core/arrays/masked.py:60: UserWarning: Pandas requires version '1.3.6' or newer of 'bottleneck' (version '1.3.5' currently installed).\n",
      "  from pandas.core import (\n"
     ]
    }
   ],
   "source": [
    "import numpy as np\n",
    "import pandas as pd\n",
    "import matplotlib.pyplot as plt"
   ]
  },
  {
   "cell_type": "code",
   "execution_count": 2,
   "metadata": {},
   "outputs": [
    {
     "name": "stdout",
     "output_type": "stream",
     "text": [
      "(210,)\n",
      "Note: redshifts have been re-sorted (earliest first)\n"
     ]
    },
    {
     "name": "stderr",
     "output_type": "stream",
     "text": [
      "/Users/tkarim/research/galCIB/powerspectra.py:63: RuntimeWarning: divide by zero encountered in log10\n",
      "  ELL_sampled = np.logspace(np.log10(consts.LMIN),\n",
      "/Users/tkarim/opt/anaconda3/envs/cosmo/lib/python3.10/site-packages/numpy/core/function_base.py:157: RuntimeWarning: invalid value encountered in multiply\n",
      "  y *= step\n",
      "/Users/tkarim/opt/anaconda3/envs/cosmo/lib/python3.10/site-packages/numpy/core/function_base.py:167: RuntimeWarning: invalid value encountered in add\n",
      "  y += start\n"
     ]
    }
   ],
   "source": [
    "# galCIB modules\n",
    "\n",
    "import consts\n",
    "import powerspectra as ps\n",
    "import halo\n",
    "import gal \n",
    "import precalc as pc\n",
    "import cib\n",
    "import cosmology"
   ]
  },
  {
   "cell_type": "code",
   "execution_count": null,
   "metadata": {},
   "outputs": [],
   "source": [
    "# define fiducial values for M21 model\n",
    "\n",
    "# 1- to 2- halo smoothing transition parameter is set to 1; but Mead++20 finds this to be 0.7 at z~0\n",
    "hmalphas = np.ones(0.719) \n",
    "\n",
    "# shotnoise defined over log10 for sampling efficiency; \n",
    "# define as log10(N_shot/Jy/sr) = theta_shot;\n",
    "# use unWISE green best-fit value because it is closest to ELG p(z)\n",
    "shotnoise_gCIB = np.array([-1.8, -1.71, -2.24])\n",
    "shotnoise_gCIB = shotnoise_gCIB - 2 # convert Y23 unit of 1e-8 MJy/sr to Jy/sr\n",
    "\n",
    "# order is 353x353, 353x545, 353x857, 545x545, 545x857, 857x857\n",
    "# taken from table 6 of 1309.0382, Planck 2013 CIB guesses\n",
    "shotnoise_CIBCIB = np.log10(np.array([225, 543, 913, 1454, 2655, 5628]))\n",
    "shotnoise_all = np.concatenate((shotnoise_gCIB, shotnoise_CIBCIB))\n",
    "\n",
    "# physical parameters of importance\n",
    "gal_params = np.array([gal_obj_m21.gamma, gal_obj_m21.log10mc, gal_obj_m21.sLog10m, gal_obj_m21.Ac, # Ncen (4): gamma, log10Mc, sigmaM, Ac\n",
    "                       gal_obj_m21.As, np.log10(gal_obj_m21.m0), gal_obj_m21.m1, gal_obj_m21.alpha_]) # Nsat (4): As, M0, M1, alpha\n",
    "prof_params = np.array([0., 6.14, 1]) # fexp, tau, lambda_NFW\n",
    "cib_params = np.array([0.49, # SFR: etamax\n",
    "                       \n",
    "                       11.52, -0.02, 2.74, # SFR (6): etamax, mu_peak0, mu_peakp,\n",
    "                       0.5, 2.15, 11.38, 0.4])  # SFR: sigma_M0, tau, zc, Mmin_IR, IR_sigma_lnM\n",
    "\n",
    "all_params = np.concatenate((hmalphas, shotnoise_all, gal_params, prof_params, cib_params))"
   ]
  }
 ],
 "metadata": {
  "kernelspec": {
   "display_name": "cosmo",
   "language": "python",
   "name": "python3"
  },
  "language_info": {
   "codemirror_mode": {
    "name": "ipython",
    "version": 3
   },
   "file_extension": ".py",
   "mimetype": "text/x-python",
   "name": "python",
   "nbconvert_exporter": "python",
   "pygments_lexer": "ipython3",
   "version": "3.10.11"
  },
  "orig_nbformat": 4
 },
 "nbformat": 4,
 "nbformat_minor": 2
}
