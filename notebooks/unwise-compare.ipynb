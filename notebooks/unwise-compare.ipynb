{
 "cells": [
  {
   "attachments": {},
   "cell_type": "markdown",
   "metadata": {},
   "source": [
    "This notebook replicates the UNWISE X CIB analysis. "
   ]
  },
  {
   "cell_type": "code",
   "execution_count": 1,
   "metadata": {},
   "outputs": [],
   "source": [
    "%load_ext autoreload\n",
    "%autoreload 2"
   ]
  },
  {
   "cell_type": "code",
   "execution_count": 2,
   "metadata": {},
   "outputs": [
    {
     "name": "stderr",
     "output_type": "stream",
     "text": [
      "/Users/tkarim/opt/anaconda3/envs/cosmo/lib/python3.10/site-packages/pandas/core/arrays/masked.py:60: UserWarning: Pandas requires version '1.3.6' or newer of 'bottleneck' (version '1.3.5' currently installed).\n",
      "  from pandas.core import (\n"
     ]
    }
   ],
   "source": [
    "import numpy as np\n",
    "import pandas as pd\n",
    "import matplotlib.pyplot as plt"
   ]
  },
  {
   "cell_type": "code",
   "execution_count": 3,
   "metadata": {},
   "outputs": [
    {
     "name": "stderr",
     "output_type": "stream",
     "text": [
      "/Users/tkarim/research/galCIB/src/galCIB/clustering/halo.py:105: DeprecationWarning: invalid escape sequence '\\l'\n",
      "  \"\"\"\n",
      "/Users/tkarim/research/galCIB/src/galCIB/clustering/halo.py:113: DeprecationWarning: invalid escape sequence '\\i'\n",
      "  \"\"\"\n",
      "/Users/tkarim/research/galCIB/src/galCIB/clustering/halo.py:124: DeprecationWarning: invalid escape sequence '\\e'\n",
      "  \"\"\"\n",
      "/Users/tkarim/research/galCIB/src/galCIB/clustering/halo.py:219: DeprecationWarning: invalid escape sequence '\\D'\n",
      "  \"\"\"\n"
     ]
    },
    {
     "ename": "ModuleNotFoundError",
     "evalue": "No module named 'galCIB.clustering.cosmology'",
     "output_type": "error",
     "traceback": [
      "\u001b[0;31m---------------------------------------------------------------------------\u001b[0m",
      "\u001b[0;31mModuleNotFoundError\u001b[0m                       Traceback (most recent call last)",
      "\u001b[1;32m/Users/tkarim/research/galCIB/notebooks/unwise-compare.ipynb Cell 4\u001b[0m in \u001b[0;36m2\n\u001b[1;32m      <a href='vscode-notebook-cell:/Users/tkarim/research/galCIB/notebooks/unwise-compare.ipynb#W3sZmlsZQ%3D%3D?line=0'>1</a>\u001b[0m \u001b[39mfrom\u001b[39;00m \u001b[39mgalCIB\u001b[39;00m \u001b[39mimport\u001b[39;00m powerspectra \u001b[39mas\u001b[39;00m ps\n\u001b[0;32m----> <a href='vscode-notebook-cell:/Users/tkarim/research/galCIB/notebooks/unwise-compare.ipynb#W3sZmlsZQ%3D%3D?line=1'>2</a>\u001b[0m \u001b[39mfrom\u001b[39;00m \u001b[39mgalCIB\u001b[39;00m\u001b[39m.\u001b[39;00m\u001b[39mclustering\u001b[39;00m \u001b[39mimport\u001b[39;00m gal\n\u001b[1;32m      <a href='vscode-notebook-cell:/Users/tkarim/research/galCIB/notebooks/unwise-compare.ipynb#W3sZmlsZQ%3D%3D?line=2'>3</a>\u001b[0m \u001b[39mfrom\u001b[39;00m \u001b[39mgalCIB\u001b[39;00m \u001b[39mimport\u001b[39;00m consts\n\u001b[1;32m      <a href='vscode-notebook-cell:/Users/tkarim/research/galCIB/notebooks/unwise-compare.ipynb#W3sZmlsZQ%3D%3D?line=3'>4</a>\u001b[0m \u001b[39mfrom\u001b[39;00m \u001b[39mgalCIB\u001b[39;00m\u001b[39m.\u001b[39;00m\u001b[39mclustering\u001b[39;00m \u001b[39mimport\u001b[39;00m cib \n",
      "File \u001b[0;32m~/research/galCIB/src/galCIB/clustering/__init__.py:3\u001b[0m\n\u001b[1;32m      1\u001b[0m \u001b[39m# src/galCIB/clustering/__init__.py\u001b[39;00m\n\u001b[0;32m----> 3\u001b[0m \u001b[39mfrom\u001b[39;00m \u001b[39m.\u001b[39;00m \u001b[39mimport\u001b[39;00m halo\n\u001b[1;32m      4\u001b[0m \u001b[39mfrom\u001b[39;00m \u001b[39m.\u001b[39;00m \u001b[39mimport\u001b[39;00m gal\n\u001b[1;32m      5\u001b[0m \u001b[39mfrom\u001b[39;00m \u001b[39m.\u001b[39;00m \u001b[39mimport\u001b[39;00m cib\n",
      "File \u001b[0;32m~/research/galCIB/src/galCIB/clustering/halo.py:14\u001b[0m\n\u001b[1;32m     12\u001b[0m \u001b[39m# import local modules\u001b[39;00m\n\u001b[1;32m     13\u001b[0m \u001b[39mfrom\u001b[39;00m \u001b[39m.\u001b[39;00m\u001b[39m.\u001b[39;00m \u001b[39mimport\u001b[39;00m consts\n\u001b[0;32m---> 14\u001b[0m \u001b[39mfrom\u001b[39;00m \u001b[39m.\u001b[39;00m\u001b[39mcosmology\u001b[39;00m \u001b[39mimport\u001b[39;00m core\n\u001b[1;32m     16\u001b[0m \u001b[39m# import halo consts\u001b[39;00m\n\u001b[1;32m     17\u001b[0m Mh \u001b[39m=\u001b[39m consts\u001b[39m.\u001b[39mMhc_Msol \u001b[39m#FIXME: make sure passing the correct form, Mhc or Mh\u001b[39;00m\n",
      "\u001b[0;31mModuleNotFoundError\u001b[0m: No module named 'galCIB.clustering.cosmology'"
     ]
    }
   ],
   "source": [
    "from galCIB import powerspectra as ps\n",
    "from galCIB.clustering import gal\n",
    "from galCIB import consts\n",
    "from galCIB.clustering import cib \n",
    "from galCIB.clustering import halo \n",
    "from galCIB import precalc as pc "
   ]
  },
  {
   "cell_type": "code",
   "execution_count": 5,
   "metadata": {},
   "outputs": [
    {
     "data": {
      "text/plain": [
       "[<matplotlib.lines.Line2D at 0x14b2ef010>]"
      ]
     },
     "execution_count": 5,
     "metadata": {},
     "output_type": "execute_result"
    },
    {
     "data": {
      "image/png": "[encoded data removed]",
      "text/plain": [
       "<Figure size 640x480 with 1 Axes>"
      ]
     },
     "metadata": {},
     "output_type": "display_data"
    }
   ],
   "source": [
    "zs = np.linspace(0.5, 1.5, 20)\n",
    "\n",
    "sigma = 0.79\n",
    "mu = 0.4\n",
    "pz = np.sqrt(2/np.pi)/sigma * np.exp(-0.5 * ((zs - mu)/sigma)**2)\n",
    "\n",
    "# pz renorm such that integral p(z) dz = 1\n",
    "pz = pz/(pz.sum() * np.diff(zs)[0])\n",
    "\n",
    "plt.plot(zs, pz)"
   ]
  },
  {
   "cell_type": "code",
   "execution_count": 6,
   "metadata": {},
   "outputs": [],
   "source": [
    "nu_obs = [353, 545, 857] # Planck effective freq. in GHz\n",
    "\n",
    "# load Planck filter response curves \n",
    "from galCIB.utils.io import load_my_filters\n",
    "\n",
    "cib_filters = load_my_filters(\"/Users/tkarim/research/galCIB/data/filters/\",\n",
    "                nu_obs=nu_obs)"
   ]
  },
  {
   "cell_type": "code",
   "execution_count": 7,
   "metadata": {},
   "outputs": [],
   "source": [
    "from galCIB import Survey \n",
    "\n",
    "LMIN = 100; LMAX=2000\n",
    "ells = np.arange(LMIN, LMAX)\n",
    "NSIDE = 1024 \n",
    "#mag_alpha = 2.225 \n",
    "mag_alpha = 1 #FIXME: turn on mag bias \n",
    "\n",
    "unwise_survey = Survey(z=zs, \n",
    "                 pz=pz, mag_alpha=mag_alpha,  # galaxy-specific\n",
    "                 cib_filters=cib_filters,  # dict: freq_GHz -> (freq_array_Hz, response_array)\n",
    "                 ells=ells, nside=NSIDE,\n",
    "                 name=\"UNWISE-Planck\")\n",
    "\n"
   ]
  },
  {
   "cell_type": "code",
   "execution_count": 8,
   "metadata": {},
   "outputs": [
    {
     "name": "stdout",
     "output_type": "stream",
     "text": [
      "wmu = [0. 0. 0. 0. 0. 0. 0. 0. 0. 0. 0. 0. 0. 0. 0. 0. 0. 0. 0. 0.]\n"
     ]
    }
   ],
   "source": [
    "ks = np.logspace(-3,1,500)\n",
    "Mh = np.logspace(7,15,100)\n",
    "\n",
    "from galCIB import Cosmology\n",
    "\n",
    "cosmo = Cosmology(unwise_survey.z, ks, Mh, colossus_cosmo_name='planck18',\n",
    "                  use_little_h=False)\n",
    "\n",
    "# Calculate window \n",
    "unwise_survey.compute_windows(cosmo,True)"
   ]
  },
  {
   "cell_type": "code",
   "execution_count": 9,
   "metadata": {},
   "outputs": [],
   "source": [
    "# Setup galaxy HOD\n",
    "\n",
    "from galCIB import get_hod_model\n",
    "unwise_hod_model = get_hod_model(\"Zheng05\", cosmo)"
   ]
  },
  {
   "cell_type": "code",
   "execution_count": 10,
   "metadata": {},
   "outputs": [],
   "source": [
    "# Setup Satellite Profile Model \n",
    "\n",
    "from galCIB import SatProfile\n",
    "\n",
    "theta_sat = np.array([0., 6.14, 1]) # no unfw\n",
    "unwise_sat_profile = SatProfile(cosmo, theta_sat,\n",
    "                             profile_type='nfw')"
   ]
  },
  {
   "cell_type": "code",
   "execution_count": 11,
   "metadata": {},
   "outputs": [],
   "source": [
    "from galCIB import SFRModel\n",
    "\n",
    "# IR-emitting galaxies  HOD model \n",
    "hod_IR = get_hod_model(\"Zheng05\", cosmo)\n"
   ]
  },
  {
   "cell_type": "code",
   "execution_count": 13,
   "metadata": {},
   "outputs": [
    {
     "name": "stdout",
     "output_type": "stream",
     "text": [
      "fsub = 0.134\n"
     ]
    }
   ],
   "source": [
    "from galCIB import SnuModel, SFRModel, CIBModel\n",
    "theta_sfr_M21 = np.array([0.49, #eta_max 1 because Y23 cannot constrain this so the overall norm. goes to L0 in SED\n",
    "                      11.52,0, #mu0_peak, mup_peak\n",
    "                      2.74,0.5,2.15]) #sigmaM0, tau, zc\n",
    "theta_IR = np.array([11.47, 1.22, 0.4]) # mu0_Mmin, mup_Mmin, sigma_lnM\n",
    "\n",
    "# Default SFR model\n",
    "sfr_model = SFRModel(name=\"M21\", hod=hod_IR, cosmo=cosmo,\n",
    "                     fsub=0.134)\n",
    "\n",
    "# Non-parametric Snu model (M21)\n",
    "snu_model_M21 = SnuModel(name=\"M21\", cosmo=cosmo,\n",
    "                         nu_prime=np.array([353, 545, 857]))\n",
    "\n",
    "# Initialize CIB model\n",
    "cib_M21 = CIBModel(sfr_model=sfr_model, \n",
    "                   snu_model=snu_model_M21,\n",
    "                   hod_IR=hod_IR,\n",
    "                   survey=unwise_survey,\n",
    "                   cosmo=cosmo,\n",
    "                   Nm_sub=198)"
   ]
  },
  {
   "cell_type": "code",
   "execution_count": 14,
   "metadata": {},
   "outputs": [
    {
     "name": "stdout",
     "output_type": "stream",
     "text": [
      "(100, 20)\n",
      "set Ncen_IR = 1 for testing.\n",
      "(198, 100, 20)\n"
     ]
    }
   ],
   "source": [
    "cib_M21.update(theta_sfr=theta_sfr_M21,\n",
    "               theta_snu=None,\n",
    "               theta_hod_IR=theta_IR)"
   ]
  },
  {
   "cell_type": "code",
   "execution_count": 15,
   "metadata": {},
   "outputs": [],
   "source": [
    "from galCIB import PkBuilder\n",
    "\n",
    "# M21 \n",
    "pk_survey_M21 = PkBuilder(cosmology=cosmo,\n",
    "                      hod_model=unwise_hod_model,\n",
    "                      cib_model=cib_M21,\n",
    "                      prof_model=unwise_sat_profile\n",
    "                      )\n",
    "\n",
    "# compute pk\n",
    "theta_cen = np.array([11.26, 2.43, 0.4]) # mu_min0, mu_minp, sigma_lnM\n",
    "theta_sat = np.array([10**6, 12.5, 0.12, 1]) # mu_10, mu_1p, alpha_s\n",
    "theta_prof = np.array([0, 6.14, 1]) # fexp, tau, lambda_NFW\n",
    "\n",
    "theta_sfr_M21 = np.array([0.49, #eta_max \n",
    "                      11.52,0, #mu0_peak, mup_peak\n",
    "                      2.74,0.5,2.15]) #sigmaM0, tau, zc\n",
    "theta_snu = None\n",
    "theta_IR = np.array([11.47, 1.22, 0.4]) # mu0_Mmin, mup_Mmin, sigma_lnM"
   ]
  },
  {
   "cell_type": "code",
   "execution_count": 16,
   "metadata": {},
   "outputs": [
    {
     "name": "stdout",
     "output_type": "stream",
     "text": [
      "M21\n",
      "(100, 20)\n",
      "set Ncen_IR = 1 for testing.\n",
      "(198, 100, 20)\n"
     ]
    }
   ],
   "source": [
    "# Pk predictions \n",
    "snu_models = ['M21']\n",
    "pgg = {}\n",
    "pII = {}\n",
    "pgI = {}\n",
    "pk_survey = {}\n",
    "pk_survey['M21'] = pk_survey_M21\n",
    "\n",
    "for snu in snu_models:\n",
    "    print(snu)\n",
    "    pgg[snu], pII[snu], pgI[snu] = pk_survey[snu].compute_pk(theta_cen=theta_cen,\n",
    "                     theta_sat=theta_sat,\n",
    "                     theta_prof=theta_prof,\n",
    "                     theta_sfr=theta_sfr_M21,\n",
    "                     theta_snu=theta_snu,\n",
    "                     theta_IR_hod=theta_IR,\n",
    "                     hmalpha=1)"
   ]
  },
  {
   "cell_type": "code",
   "execution_count": 17,
   "metadata": {},
   "outputs": [],
   "source": [
    "from galCIB import AnalysisModel\n",
    "\n",
    "analysis = AnalysisModel(cosmology=cosmo,\n",
    "                         survey=unwise_survey,\n",
    "                         pk3d=pk_survey['M21'])\n"
   ]
  },
  {
   "cell_type": "code",
   "execution_count": 18,
   "metadata": {},
   "outputs": [
    {
     "name": "stdout",
     "output_type": "stream",
     "text": [
      "(100, 20)\n",
      "set Ncen_IR = 1 for testing.\n",
      "(198, 100, 20)\n"
     ]
    }
   ],
   "source": [
    "cgg, cgI, cII = analysis.update_cl(theta_cen=theta_cen,\n",
    "                     theta_sat=theta_sat,\n",
    "                     theta_prof=theta_prof,\n",
    "                     theta_sfr=theta_sfr_M21,\n",
    "                     theta_snu=theta_snu,\n",
    "                     theta_IR_hod=theta_IR,\n",
    "                     hmalpha=0.79)"
   ]
  },
  {
   "cell_type": "code",
   "execution_count": null,
   "metadata": {},
   "outputs": [],
   "source": []
  },
  {
   "cell_type": "code",
   "execution_count": 4,
   "metadata": {},
   "outputs": [],
   "source": [
    "# define fiducial values for M21 model\n",
    "\n",
    "# 1- to 2- halo smoothing transition parameter is set to 1; but Mead++20 finds this to be 0.7 at z~0\n",
    "hmalphas = 0.719*np.ones(10) \n",
    "\n",
    "# shotnoise defined over log10 for sampling efficiency; \n",
    "# define as log10(N_shot/Jy/sr) = theta_shot;\n",
    "# use unWISE green best-fit value because it is closest to ELG p(z)\n",
    "shotnoise_gCIB = np.array([-1.22, -1.24, -0.53])\n",
    "shotnoise_gCIB = shotnoise_gCIB - 2 # convert Y23 unit of 1e-8 MJy/sr to Jy/sr\n",
    "\n",
    "# order is 353x353, 353x545, 353x857, 545x545, 545x857, 857x857\n",
    "# taken from table 6 of 1309.0382, Planck 2013 CIB guesses\n",
    "shotnoise_CIBCIB = np.log10(np.array([225, 543, 913, 1454, 2655, 5628]))\n",
    "shotnoise_all = np.concatenate((shotnoise_gCIB, shotnoise_CIBCIB))"
   ]
  },
  {
   "cell_type": "code",
   "execution_count": 19,
   "metadata": {},
   "outputs": [],
   "source": [
    "# blue x 353\n",
    "\n",
    "xb3 = np.array([148.97824653922214, 241.52933421226103, 342.3862887277521, 436.1239288068556, 526.3019116677654, 622.4126565589979, 711.4040870138431, 808.7013843111404, 904.8121292023731, 1005.6690837178642, 1092.28740936058, 1195.5174686882003, 1288.0685563612392, 1380.619644034278, 1479.10349373764, 1570.4680290046142, 1668.9518787079762, 1761.502966381015, 1854.054054054054, 1950.1647989452865])\n",
    "yb3 = np.array([7.480594161973804, 7.797879010633586, 7.931587425151214, 8.047816419609008, 8.174340524488063, 8.223198986556294, 8.305764815715698, 8.402403589592033, 8.440781408547549, 8.4763626521893, 8.540487900410033, 8.584008849214815, 8.568976630590038, 8.65046451537871, 8.68388503262927, 8.677798985712526, 8.682363120858255, 8.69759424894262, 8.725077643799695, 8.737320345633321])"
   ]
  },
  {
   "cell_type": "code",
   "execution_count": 24,
   "metadata": {},
   "outputs": [
    {
     "data": {
      "text/plain": [
       "array([0.06850246, 0.06791155, 0.0673307 , ..., 0.00093915, 0.00093867,\n",
       "       0.00093818])"
      ]
     },
     "execution_count": 24,
     "metadata": {},
     "output_type": "execute_result"
    }
   ],
   "source": [
    "cgI[0]"
   ]
  },
  {
   "cell_type": "code",
   "execution_count": 42,
   "metadata": {},
   "outputs": [
    {
     "data": {
      "text/plain": [
       "<matplotlib.legend.Legend at 0x14c96c3d0>"
      ]
     },
     "execution_count": 42,
     "metadata": {},
     "output_type": "execute_result"
    },
    {
     "data": {
      "image/png": "[encoded data removed]",
      "text/plain": [
       "<Figure size 640x480 with 1 Axes>"
      ]
     },
     "metadata": {},
     "output_type": "display_data"
    }
   ],
   "source": [
    "\n",
    "plt.scatter(xb3, -1*yb3,label = 'UNWISE x 353')\n",
    "plt.plot(unwise_survey.ells,\n",
    "         np.log10(cgI[0])-6, label = 'galCIB')\n",
    "\n",
    "plt.axhline(-9.22, label = 'shot noise')\n",
    "plt.legend(loc='best')"
   ]
  },
  {
   "cell_type": "code",
   "execution_count": null,
   "metadata": {},
   "outputs": [],
   "source": [
    "log10(x/1e-8) = -1.22"
   ]
  },
  {
   "cell_type": "code",
   "execution_count": null,
   "metadata": {},
   "outputs": [],
   "source": [
    "log10(x) + 8 = -1.22"
   ]
  },
  {
   "cell_type": "code",
   "execution_count": null,
   "metadata": {},
   "outputs": [],
   "source": []
  },
  {
   "cell_type": "code",
   "execution_count": 31,
   "metadata": {},
   "outputs": [],
   "source": [
    "cg353_int = np.interp(xb3, unwise_survey.ells,\n",
    "                      np.log10(cgI[0])+0.2)"
   ]
  },
  {
   "cell_type": "code",
   "execution_count": 32,
   "metadata": {},
   "outputs": [
    {
     "data": {
      "text/plain": [
       "array([-0.1516697 , -0.19544918, -0.10567493, -0.0465741 , -0.03775849,\n",
       "        0.04019131,  0.05739438,  0.05664392,  0.10091368,  0.14142512,\n",
       "        0.13529638,  0.15303843,  0.21690194,  0.17902871,  0.18715612,\n",
       "        0.22774751,  0.25659845,  0.26956047,  0.2675414 ,  0.27916301])"
      ]
     },
     "execution_count": 32,
     "metadata": {},
     "output_type": "execute_result"
    }
   ],
   "source": [
    "measure = (-1*yb3 + 6)\n",
    "measure - cg353_int"
   ]
  },
  {
   "cell_type": "code",
   "execution_count": 34,
   "metadata": {},
   "outputs": [
    {
     "data": {
      "text/plain": [
       "[<matplotlib.lines.Line2D at 0x14c165540>]"
      ]
     },
     "execution_count": 34,
     "metadata": {},
     "output_type": "execute_result"
    },
    {
     "data": {
      "image/png": "[encoded data removed]",
      "text/plain": [
       "<Figure size 640x480 with 1 Axes>"
      ]
     },
     "metadata": {},
     "output_type": "display_data"
    }
   ],
   "source": [
    "plt.plot(xb3, measure - cg353_int)"
   ]
  },
  {
   "cell_type": "code",
   "execution_count": null,
   "metadata": {},
   "outputs": [],
   "source": []
  },
  {
   "cell_type": "code",
   "execution_count": 39,
   "metadata": {},
   "outputs": [
    {
     "data": {
      "text/plain": [
       "[<matplotlib.lines.Line2D at 0x15013ca30>]"
      ]
     },
     "execution_count": 39,
     "metadata": {},
     "output_type": "execute_result"
    },
    {
     "data": {
      "image/png": "[encoded data removed]",
      "text/plain": [
       "<Figure size 640x480 with 1 Axes>"
      ]
     },
     "metadata": {},
     "output_type": "display_data"
    }
   ],
   "source": [
    "plt.loglog(ells, \n",
    "           c_all_k25_predict[0])"
   ]
  },
  {
   "cell_type": "code",
   "execution_count": 6,
   "metadata": {},
   "outputs": [],
   "source": [
    "uprof = halo.uprof_mixed(prof_params, pc.rad200,\n",
    "            pc.concentration, pc.concentration_amp,)\n",
    "galterm, ncen, nsat = gal.galterm(gal_params, uprof,\n",
    "            gal_type = 'UNWISE')\n",
    "nbar_halo = gal.nbargal_halo(ncen, nsat, ps.hmfzT)"
   ]
  },
  {
   "cell_type": "code",
   "execution_count": 16,
   "metadata": {},
   "outputs": [
    {
     "name": "stderr",
     "output_type": "stream",
     "text": [
      "/Users/tkarim/research/galCIB/src/galCIB/powerspectra.py:63: RuntimeWarning: divide by zero encountered in log10\n",
      "  ELL_sampled = np.logspace(np.log10(consts.LMIN),\n",
      "/Users/tkarim/opt/anaconda3/envs/cosmo/lib/python3.10/site-packages/numpy/core/function_base.py:157: RuntimeWarning: invalid value encountered in multiply\n",
      "  y *= step\n",
      "/Users/tkarim/opt/anaconda3/envs/cosmo/lib/python3.10/site-packages/numpy/core/function_base.py:167: RuntimeWarning: invalid value encountered in add\n",
      "  y += start\n"
     ]
    }
   ],
   "source": [
    "gg_pk_2h = ps.galcrossgal_pk_2h(galterm, nbar_halo)[0]\n",
    "gg_pk_1h = ps.galcrossgal_pk_1h(galterm, nbar_halo,\n",
    "                                ncen, nsat, uprof)"
   ]
  },
  {
   "cell_type": "code",
   "execution_count": null,
   "metadata": {},
   "outputs": [],
   "source": []
  },
  {
   "cell_type": "code",
   "execution_count": null,
   "metadata": {},
   "outputs": [],
   "source": []
  },
  {
   "cell_type": "code",
   "execution_count": null,
   "metadata": {},
   "outputs": [],
   "source": []
  },
  {
   "cell_type": "code",
   "execution_count": 8,
   "metadata": {},
   "outputs": [],
   "source": [
    "gg_c_2h = ps.galcrossgal_cell_2h(galterm, nbar_halo)"
   ]
  },
  {
   "cell_type": "code",
   "execution_count": 15,
   "metadata": {},
   "outputs": [
    {
     "name": "stderr",
     "output_type": "stream",
     "text": [
      "/Users/tkarim/research/galCIB/src/galCIB/powerspectra.py:63: RuntimeWarning: divide by zero encountered in log10\n",
      "  ELL_sampled = np.logspace(np.log10(consts.LMIN),\n",
      "/Users/tkarim/opt/anaconda3/envs/cosmo/lib/python3.10/site-packages/numpy/core/function_base.py:157: RuntimeWarning: invalid value encountered in multiply\n",
      "  y *= step\n",
      "/Users/tkarim/opt/anaconda3/envs/cosmo/lib/python3.10/site-packages/numpy/core/function_base.py:167: RuntimeWarning: invalid value encountered in add\n",
      "  y += start\n"
     ]
    },
    {
     "data": {
      "text/plain": [
       "(199, 100, 102)"
      ]
     },
     "execution_count": 15,
     "metadata": {},
     "output_type": "execute_result"
    }
   ],
   "source": [
    "uprof.shape"
   ]
  },
  {
   "cell_type": "code",
   "execution_count": 12,
   "metadata": {},
   "outputs": [
    {
     "data": {
      "text/plain": [
       "[<matplotlib.lines.Line2D at 0x14f41cd30>]"
      ]
     },
     "execution_count": 12,
     "metadata": {},
     "output_type": "execute_result"
    },
    {
     "data": {
      "image/png": "[encoded data removed]",
      "text/plain": [
       "<Figure size 640x480 with 1 Axes>"
      ]
     },
     "metadata": {},
     "output_type": "display_data"
    }
   ],
   "source": [
    "plt.loglog(consts.ell,\n",
    "           gg_c_2h)"
   ]
  },
  {
   "cell_type": "code",
   "execution_count": null,
   "metadata": {},
   "outputs": [],
   "source": []
  },
  {
   "cell_type": "code",
   "execution_count": 17,
   "metadata": {},
   "outputs": [
    {
     "data": {
      "text/plain": [
       "[<matplotlib.lines.Line2D at 0x151316380>]"
      ]
     },
     "execution_count": 17,
     "metadata": {},
     "output_type": "execute_result"
    },
    {
     "data": {
      "image/png": "[encoded data removed]",
      "text/plain": [
       "<Figure size 640x480 with 1 Axes>"
      ]
     },
     "metadata": {},
     "output_type": "display_data"
    }
   ],
   "source": [
    "plt.loglog(consts.k_grid_over_ell[:,50],\n",
    "           gg_pk_2h[:,50])\n",
    "\n",
    "plt.loglog(consts.k_grid_over_ell[:,50],\n",
    "           gg_pk_1h[:,50])"
   ]
  },
  {
   "cell_type": "code",
   "execution_count": 24,
   "metadata": {},
   "outputs": [
    {
     "data": {
      "text/plain": [
       "array([[  0.        ,   0.        ,   0.        , ...,   0.        ,\n",
       "          0.        ,   0.        ],\n",
       "       [  0.        ,   0.        ,   0.        , ...,   0.        ,\n",
       "          0.        ,   0.        ],\n",
       "       [  0.        ,   0.        ,   0.        , ...,   0.        ,\n",
       "          0.        ,   0.        ],\n",
       "       ...,\n",
       "       [215.11443394, 210.24789863, 206.24519424, ..., 169.56754866,\n",
       "        169.52883059, 169.49081562],\n",
       "       [259.1060973 , 253.2443383 , 248.42306668, ..., 204.24471272,\n",
       "        204.19807667, 204.1522875 ],\n",
       "       [312.09421157, 305.03370209, 299.22646336, ..., 246.0134796 ,\n",
       "        245.95730631, 245.9021531 ]])"
      ]
     },
     "execution_count": 24,
     "metadata": {},
     "output_type": "execute_result"
    }
   ],
   "source": [
    "nsat"
   ]
  },
  {
   "cell_type": "code",
   "execution_count": null,
   "metadata": {},
   "outputs": [],
   "source": []
  },
  {
   "cell_type": "code",
   "execution_count": null,
   "metadata": {},
   "outputs": [],
   "source": []
  },
  {
   "attachments": {},
   "cell_type": "markdown",
   "metadata": {},
   "source": [
    "# Produce with DopplerCIB"
   ]
  },
  {
   "cell_type": "code",
   "execution_count": 35,
   "metadata": {},
   "outputs": [],
   "source": [
    "# DopplerCIB modules\n",
    "\n",
    "import sys \n",
    "sys.path.append(\"//Users/tkarim/research/DopplerCIB/\")\n",
    "\n",
    "import CIB_halo as mcib\n",
    "import cosmo_related as mcosmo\n",
    "import input_var_cibmean as minput\n",
    "import Gal_halo as mgh\n",
    "import CIBxGal_halo as mcg\n",
    "import hmf_unfw_bias as mhmf_unfw"
   ]
  },
  {
   "cell_type": "code",
   "execution_count": 36,
   "metadata": {},
   "outputs": [
    {
     "name": "stdout",
     "output_type": "stream",
     "text": [
      "Calculating the halo mass function for given mass and redshift for CIB mean calculations.\n",
      "[39.52037275]\n",
      "5.298428495800479e-17\n",
      "2.4832862197860225e-18\n"
     ]
    }
   ],
   "source": [
    "## initialize cosmo_var_iv and data_var_iv to pass to DopplerCIB\n",
    "\n",
    "cosmo_var = mcosmo.cosmo_var_iv(mass=consts.Mh_Msol,\n",
    "                                z=consts.Plin['z'],\n",
    "                                do_powerspec=1)\n",
    "\n",
    "# experimental specification \n",
    "\n",
    "cib_exp = 'Planck'\n",
    "# color corrections for 100, 143, 217, 353, 545, 857 and 3000 GHz for Planck\n",
    "cc_pl = np.array([1.076, 1.017, 1.119, 1.097, 1.068, 0.995])  # , 0.960])\n",
    "cc = cc_pl  \n",
    "\n",
    "nu0 = np.array([100., 143., 217., 353., 545., 857.]) \n",
    "nus = ['100', '143', '217', '353', '545', '857']\n",
    "# fwhm obtained from https://wiki.cosmos.esa.int/planckpla/index.php/Effective_Beams\n",
    "fwhm = np.array([9.651, 7.248, 4.990, 4.818, 4.682, 4.325])  # in arcmin\n",
    "fwhm_rad = fwhm*(np.pi/180.)/60.\n",
    "# fwhm = 4.8  # 4.8 Planck arcmin # 0.5 CCAT-Prime\n",
    "# 1303.5067 for sensitivity (Tab:4 muK deg & kJy/sr deg)\n",
    "sensitivity_muKarcmin = np.array([108., 48., 60., 210., 1137., 29075.])\n",
    "sensitivity_Jy2_sr = np.array([58., 26.929, 72., 305, 369., 369.])\n",
    "sensitivity_Jy_sr = np.sqrt(sensitivity_Jy2_sr)\n",
    "# sensitivity = 13.5  # 13.5 Planck Jy/sr  # 1.2 CCAT-Prime\n",
    "ell = np.logspace(2, np.log10(2000), 99)\n",
    "fc = np.ones(len(nu0))\n",
    "\n",
    "strfig = \"allcomponents_lognormal_sigevol_1p5zcutoff_nolens_onlyautoshotpar_no3000_gaussian600n857n1200_planck_spire_hmflog10.txt\"\n",
    "cibres = \"/Users/tkarim/research/galCIB/data/one_halo_bestfit_\"+strfig\n",
    "\n",
    "exp = {'name': cib_exp,\n",
    "          'do_cibmean': 0,\n",
    "          'cc': cc,\n",
    "          'fc': fc,\n",
    "          'snuaddr': '/Users/tkarim/research/galCIB/data/filtered_snu_planck.fits',\n",
    "          # 'nu0min': nu0min, 'nu0max': nu0max,\n",
    "          # 'nucen': str(int(nucen)),\n",
    "          'nu0': nu0,\n",
    "          'ell': ell,\n",
    "          'fwhm': fwhm,\n",
    "          'sensitivity': sensitivity_Jy_sr,\n",
    "          'cibpar_resfile': cibres,\n",
    "          'nu_string': nus}\n",
    "\n",
    "## initialize data_var_iv \n",
    "data_var_iv = minput.data_var_iv(exp = exp)"
   ]
  },
  {
   "cell_type": "code",
   "execution_count": null,
   "metadata": {},
   "outputs": [],
   "source": [
    "gal_obj_m21 = mgh.ProfHODMore15(data_var_iv, cosmo_var, \n",
    "                                gal_exp='DESI_ELG')"
   ]
  }
 ],
 "metadata": {
  "kernelspec": {
   "display_name": "cosmo",
   "language": "python",
   "name": "python3"
  },
  "language_info": {
   "codemirror_mode": {
    "name": "ipython",
    "version": 3
   },
   "file_extension": ".py",
   "mimetype": "text/x-python",
   "name": "python",
   "nbconvert_exporter": "python",
   "pygments_lexer": "ipython3",
   "version": "3.10.11"
  },
  "orig_nbformat": 4
 },
 "nbformat": 4,
 "nbformat_minor": 2
}
