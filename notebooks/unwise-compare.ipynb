{
 "cells": [
  {
   "attachments": {},
   "cell_type": "markdown",
   "metadata": {},
   "source": [
    "This notebook replicates the UNWISE X CIB analysis. "
   ]
  },
  {
   "cell_type": "code",
   "execution_count": 1,
   "metadata": {},
   "outputs": [],
   "source": [
    "%load_ext autoreload\n",
    "%autoreload 2"
   ]
  },
  {
   "cell_type": "code",
   "execution_count": 2,
   "metadata": {},
   "outputs": [
    {
     "name": "stderr",
     "output_type": "stream",
     "text": [
      "/Users/tkarim/opt/anaconda3/envs/cosmo/lib/python3.10/site-packages/pandas/core/arrays/masked.py:60: UserWarning: Pandas requires version '1.3.6' or newer of 'bottleneck' (version '1.3.5' currently installed).\n",
      "  from pandas.core import (\n"
     ]
    }
   ],
   "source": [
    "import numpy as np\n",
    "import pandas as pd\n",
    "import matplotlib.pyplot as plt"
   ]
  },
  {
   "cell_type": "code",
   "execution_count": 5,
   "metadata": {},
   "outputs": [
    {
     "ename": "FileNotFoundError",
     "evalue": "../DopplerCIB/data_files/redshifts.txt not found.",
     "output_type": "error",
     "traceback": [
      "\u001b[0;31m---------------------------------------------------------------------------\u001b[0m",
      "\u001b[0;31mFileNotFoundError\u001b[0m                         Traceback (most recent call last)",
      "\u001b[1;32m/Users/tkarim/research/galCIB/notebooks/unwise-compare.ipynb Cell 4\u001b[0m in \u001b[0;36m7\n\u001b[1;32m      <a href='vscode-notebook-cell:/Users/tkarim/research/galCIB/notebooks/unwise-compare.ipynb#W3sZmlsZQ%3D%3D?line=3'>4</a>\u001b[0m sys\u001b[39m.\u001b[39mpath\u001b[39m.\u001b[39mappend(\u001b[39m\"\u001b[39m\u001b[39m//Users/tkarim/research/galCIB/\u001b[39m\u001b[39m\"\u001b[39m)\n\u001b[1;32m      <a href='vscode-notebook-cell:/Users/tkarim/research/galCIB/notebooks/unwise-compare.ipynb#W3sZmlsZQ%3D%3D?line=5'>6</a>\u001b[0m \u001b[39mimport\u001b[39;00m \u001b[39mconsts\u001b[39;00m\n\u001b[0;32m----> <a href='vscode-notebook-cell:/Users/tkarim/research/galCIB/notebooks/unwise-compare.ipynb#W3sZmlsZQ%3D%3D?line=6'>7</a>\u001b[0m \u001b[39mimport\u001b[39;00m \u001b[39mpowerspectra\u001b[39;00m \u001b[39mas\u001b[39;00m \u001b[39mps\u001b[39;00m\n\u001b[1;32m      <a href='vscode-notebook-cell:/Users/tkarim/research/galCIB/notebooks/unwise-compare.ipynb#W3sZmlsZQ%3D%3D?line=7'>8</a>\u001b[0m \u001b[39mimport\u001b[39;00m \u001b[39mhalo\u001b[39;00m\n\u001b[1;32m      <a href='vscode-notebook-cell:/Users/tkarim/research/galCIB/notebooks/unwise-compare.ipynb#W3sZmlsZQ%3D%3D?line=8'>9</a>\u001b[0m \u001b[39mimport\u001b[39;00m \u001b[39mgal\u001b[39;00m \n",
      "File \u001b[0;32m//Users/tkarim/research/galCIB/powerspectra.py:19\u001b[0m\n\u001b[1;32m     17\u001b[0m \u001b[39m# import local modules\u001b[39;00m\n\u001b[1;32m     18\u001b[0m \u001b[39mimport\u001b[39;00m \u001b[39mconsts\u001b[39;00m\n\u001b[0;32m---> 19\u001b[0m \u001b[39mimport\u001b[39;00m \u001b[39mprecalc\u001b[39;00m \u001b[39mas\u001b[39;00m \u001b[39mpc\u001b[39;00m\n\u001b[1;32m     20\u001b[0m \u001b[39mimport\u001b[39;00m \u001b[39mgal\u001b[39;00m\n\u001b[1;32m     21\u001b[0m \u001b[39mimport\u001b[39;00m \u001b[39mcib\u001b[39;00m\n",
      "File \u001b[0;32m//Users/tkarim/research/galCIB/precalc.py:9\u001b[0m\n\u001b[1;32m      6\u001b[0m \u001b[39mimport\u001b[39;00m \u001b[39mnumpy\u001b[39;00m \u001b[39mas\u001b[39;00m \u001b[39mnp\u001b[39;00m\n\u001b[1;32m      8\u001b[0m \u001b[39m# import local modules\u001b[39;00m\n\u001b[0;32m----> 9\u001b[0m \u001b[39mimport\u001b[39;00m \u001b[39mcib\u001b[39;00m \n\u001b[1;32m     10\u001b[0m \u001b[39mimport\u001b[39;00m \u001b[39mgal\u001b[39;00m\n\u001b[1;32m     11\u001b[0m \u001b[39mimport\u001b[39;00m \u001b[39mhalo\u001b[39;00m \u001b[39mas\u001b[39;00m \u001b[39mh\u001b[39;00m\n",
      "File \u001b[0;32m//Users/tkarim/research/galCIB/cib.py:9\u001b[0m\n\u001b[1;32m      6\u001b[0m \u001b[39mimport\u001b[39;00m \u001b[39mconsts\u001b[39;00m\n\u001b[1;32m      8\u001b[0m \u001b[39m# for HOD of IR galaxies\u001b[39;00m\n\u001b[0;32m----> 9\u001b[0m \u001b[39mimport\u001b[39;00m \u001b[39mgal\u001b[39;00m \n\u001b[1;32m     11\u001b[0m \u001b[39m# integrates using simpson method \u001b[39;00m\n\u001b[1;32m     12\u001b[0m \u001b[39mfrom\u001b[39;00m \u001b[39mscipy\u001b[39;00m\u001b[39m.\u001b[39;00m\u001b[39mintegrate\u001b[39;00m \u001b[39mimport\u001b[39;00m simpson\n",
      "File \u001b[0;32m//Users/tkarim/research/galCIB/gal.py:13\u001b[0m\n\u001b[1;32m     11\u001b[0m \u001b[39m# import local modules\u001b[39;00m\n\u001b[1;32m     12\u001b[0m \u001b[39mimport\u001b[39;00m \u001b[39mconsts\u001b[39;00m\n\u001b[0;32m---> 13\u001b[0m \u001b[39mimport\u001b[39;00m \u001b[39mhalo\u001b[39;00m \n\u001b[1;32m     15\u001b[0m \u001b[39m# read in cosmological constants\u001b[39;00m\n\u001b[1;32m     16\u001b[0m OmegaM0 \u001b[39m=\u001b[39m consts\u001b[39m.\u001b[39mOmegaM0\n",
      "File \u001b[0;32m//Users/tkarim/research/galCIB/halo.py:14\u001b[0m\n\u001b[1;32m     12\u001b[0m \u001b[39m# import local modules\u001b[39;00m\n\u001b[1;32m     13\u001b[0m \u001b[39mimport\u001b[39;00m \u001b[39mconsts\u001b[39;00m\n\u001b[0;32m---> 14\u001b[0m \u001b[39mimport\u001b[39;00m \u001b[39mcosmology\u001b[39;00m\n\u001b[1;32m     16\u001b[0m \u001b[39m# import halo consts\u001b[39;00m\n\u001b[1;32m     17\u001b[0m Mh \u001b[39m=\u001b[39m consts\u001b[39m.\u001b[39mMhc_Msol \u001b[39m#FIXME: make sure passing the correct form, Mhc or Mh\u001b[39;00m\n",
      "File \u001b[0;32m//Users/tkarim/research/galCIB/cosmology.py:21\u001b[0m\n\u001b[1;32m     15\u001b[0m \u001b[39mfrom\u001b[39;00m \u001b[39mcolossus\u001b[39;00m\u001b[39m.\u001b[39;00m\u001b[39mlss\u001b[39;00m \u001b[39mimport\u001b[39;00m mass_function\n\u001b[1;32m     17\u001b[0m \u001b[39m# Redshift range covering both ELG and CIB in bins of ELG\u001b[39;00m\n\u001b[1;32m     18\u001b[0m \u001b[39m#z_all = np.arange(0.05, 10.22, 0.1)\u001b[39;00m\n\u001b[1;32m     19\u001b[0m \n\u001b[1;32m     20\u001b[0m \u001b[39m#FIXME: run it only for comparison with DopplerCIB\u001b[39;00m\n\u001b[0;32m---> 21\u001b[0m z_all \u001b[39m=\u001b[39m np\u001b[39m.\u001b[39;49mloadtxt(\u001b[39m'\u001b[39;49m\u001b[39m../DopplerCIB/data_files/redshifts.txt\u001b[39;49m\u001b[39m'\u001b[39;49m)\n\u001b[1;32m     22\u001b[0m \u001b[39mprint\u001b[39m(z_all\u001b[39m.\u001b[39mshape)\n\u001b[1;32m     24\u001b[0m \u001b[39m# k range covering up to k_max = 10\u001b[39;00m\n",
      "File \u001b[0;32m~/opt/anaconda3/envs/cosmo/lib/python3.10/site-packages/numpy/lib/npyio.py:1356\u001b[0m, in \u001b[0;36mloadtxt\u001b[0;34m(fname, dtype, comments, delimiter, converters, skiprows, usecols, unpack, ndmin, encoding, max_rows, quotechar, like)\u001b[0m\n\u001b[1;32m   1353\u001b[0m \u001b[39mif\u001b[39;00m \u001b[39misinstance\u001b[39m(delimiter, \u001b[39mbytes\u001b[39m):\n\u001b[1;32m   1354\u001b[0m     delimiter \u001b[39m=\u001b[39m delimiter\u001b[39m.\u001b[39mdecode(\u001b[39m'\u001b[39m\u001b[39mlatin1\u001b[39m\u001b[39m'\u001b[39m)\n\u001b[0;32m-> 1356\u001b[0m arr \u001b[39m=\u001b[39m _read(fname, dtype\u001b[39m=\u001b[39;49mdtype, comment\u001b[39m=\u001b[39;49mcomment, delimiter\u001b[39m=\u001b[39;49mdelimiter,\n\u001b[1;32m   1357\u001b[0m             converters\u001b[39m=\u001b[39;49mconverters, skiplines\u001b[39m=\u001b[39;49mskiprows, usecols\u001b[39m=\u001b[39;49musecols,\n\u001b[1;32m   1358\u001b[0m             unpack\u001b[39m=\u001b[39;49munpack, ndmin\u001b[39m=\u001b[39;49mndmin, encoding\u001b[39m=\u001b[39;49mencoding,\n\u001b[1;32m   1359\u001b[0m             max_rows\u001b[39m=\u001b[39;49mmax_rows, quote\u001b[39m=\u001b[39;49mquotechar)\n\u001b[1;32m   1361\u001b[0m \u001b[39mreturn\u001b[39;00m arr\n",
      "File \u001b[0;32m~/opt/anaconda3/envs/cosmo/lib/python3.10/site-packages/numpy/lib/npyio.py:975\u001b[0m, in \u001b[0;36m_read\u001b[0;34m(fname, delimiter, comment, quote, imaginary_unit, usecols, skiplines, max_rows, converters, ndmin, unpack, dtype, encoding)\u001b[0m\n\u001b[1;32m    973\u001b[0m     fname \u001b[39m=\u001b[39m os\u001b[39m.\u001b[39mfspath(fname)\n\u001b[1;32m    974\u001b[0m \u001b[39mif\u001b[39;00m \u001b[39misinstance\u001b[39m(fname, \u001b[39mstr\u001b[39m):\n\u001b[0;32m--> 975\u001b[0m     fh \u001b[39m=\u001b[39m np\u001b[39m.\u001b[39;49mlib\u001b[39m.\u001b[39;49m_datasource\u001b[39m.\u001b[39;49mopen(fname, \u001b[39m'\u001b[39;49m\u001b[39mrt\u001b[39;49m\u001b[39m'\u001b[39;49m, encoding\u001b[39m=\u001b[39;49mencoding)\n\u001b[1;32m    976\u001b[0m     \u001b[39mif\u001b[39;00m encoding \u001b[39mis\u001b[39;00m \u001b[39mNone\u001b[39;00m:\n\u001b[1;32m    977\u001b[0m         encoding \u001b[39m=\u001b[39m \u001b[39mgetattr\u001b[39m(fh, \u001b[39m'\u001b[39m\u001b[39mencoding\u001b[39m\u001b[39m'\u001b[39m, \u001b[39m'\u001b[39m\u001b[39mlatin1\u001b[39m\u001b[39m'\u001b[39m)\n",
      "File \u001b[0;32m~/opt/anaconda3/envs/cosmo/lib/python3.10/site-packages/numpy/lib/_datasource.py:193\u001b[0m, in \u001b[0;36mopen\u001b[0;34m(path, mode, destpath, encoding, newline)\u001b[0m\n\u001b[1;32m    156\u001b[0m \u001b[39m\"\"\"\u001b[39;00m\n\u001b[1;32m    157\u001b[0m \u001b[39mOpen `path` with `mode` and return the file object.\u001b[39;00m\n\u001b[1;32m    158\u001b[0m \n\u001b[0;32m   (...)\u001b[0m\n\u001b[1;32m    189\u001b[0m \n\u001b[1;32m    190\u001b[0m \u001b[39m\"\"\"\u001b[39;00m\n\u001b[1;32m    192\u001b[0m ds \u001b[39m=\u001b[39m DataSource(destpath)\n\u001b[0;32m--> 193\u001b[0m \u001b[39mreturn\u001b[39;00m ds\u001b[39m.\u001b[39;49mopen(path, mode, encoding\u001b[39m=\u001b[39;49mencoding, newline\u001b[39m=\u001b[39;49mnewline)\n",
      "File \u001b[0;32m~/opt/anaconda3/envs/cosmo/lib/python3.10/site-packages/numpy/lib/_datasource.py:533\u001b[0m, in \u001b[0;36mDataSource.open\u001b[0;34m(self, path, mode, encoding, newline)\u001b[0m\n\u001b[1;32m    530\u001b[0m     \u001b[39mreturn\u001b[39;00m _file_openers[ext](found, mode\u001b[39m=\u001b[39mmode,\n\u001b[1;32m    531\u001b[0m                               encoding\u001b[39m=\u001b[39mencoding, newline\u001b[39m=\u001b[39mnewline)\n\u001b[1;32m    532\u001b[0m \u001b[39melse\u001b[39;00m:\n\u001b[0;32m--> 533\u001b[0m     \u001b[39mraise\u001b[39;00m \u001b[39mFileNotFoundError\u001b[39;00m(\u001b[39mf\u001b[39m\u001b[39m\"\u001b[39m\u001b[39m{\u001b[39;00mpath\u001b[39m}\u001b[39;00m\u001b[39m not found.\u001b[39m\u001b[39m\"\u001b[39m)\n",
      "\u001b[0;31mFileNotFoundError\u001b[0m: ../DopplerCIB/data_files/redshifts.txt not found."
     ]
    }
   ],
   "source": [
    "# galCIB modules\n",
    "\n",
    "import sys \n",
    "sys.path.append(\"//Users/tkarim/research/galCIB/\")\n",
    "\n",
    "import consts\n",
    "import powerspectra as ps\n",
    "import halo\n",
    "import gal \n",
    "import precalc as pc\n",
    "import cib\n",
    "import cosmology"
   ]
  },
  {
   "cell_type": "code",
   "execution_count": 5,
   "metadata": {},
   "outputs": [],
   "source": [
    "# define fiducial values for M21 model\n",
    "\n",
    "# 1- to 2- halo smoothing transition parameter is set to 1; but Mead++20 finds this to be 0.7 at z~0\n",
    "hmalphas = 0.719*np.ones(10) \n",
    "\n",
    "# shotnoise defined over log10 for sampling efficiency; \n",
    "# define as log10(N_shot/Jy/sr) = theta_shot;\n",
    "# use unWISE green best-fit value because it is closest to ELG p(z)\n",
    "shotnoise_gCIB = np.array([-1.8, -1.71, -2.24])\n",
    "shotnoise_gCIB = shotnoise_gCIB - 2 # convert Y23 unit of 1e-8 MJy/sr to Jy/sr\n",
    "\n",
    "# order is 353x353, 353x545, 353x857, 545x545, 545x857, 857x857\n",
    "# taken from table 6 of 1309.0382, Planck 2013 CIB guesses\n",
    "shotnoise_CIBCIB = np.log10(np.array([225, 543, 913, 1454, 2655, 5628]))\n",
    "shotnoise_all = np.concatenate((shotnoise_gCIB, shotnoise_CIBCIB))\n",
    "\n",
    "# physical parameters of importance\n",
    "gal_params = np.array([11.26, 2.43, 0.4, # Ncen : mu_min0, mu_minp, sigma_lnM\n",
    "                       12.5, 0.12, 1 # Nsat : mu_10, mu_1p, alpha_s\n",
    "])\n",
    "    \n",
    "    # gal_obj_m21.gamma, gal_obj_m21.log10mc, \n",
    "    #                    gal_obj_m21.sLog10m, gal_obj_m21.Ac, # Ncen (4): gamma, log10Mc, sigmaM, Ac\n",
    "    #                    gal_obj_m21.As, np.log10(gal_obj_m21.m0), \n",
    "    #                    gal_obj_m21.m1, gal_obj_m21.alpha_]) # Nsat (4): As, M0, M1, alpha\n",
    "prof_params = np.array([0., 6.14, 1]) # fexp, tau, lambda_NFW\n",
    "cib_params = np.array([0.49, 11.52, -0.02, # SFR: etamax, mu_peak0, mu_peakp,\n",
    "                       2.74, 0.5, 2.15,   # sigma_M0, tau, zc\n",
    "                       11.38, 2.6, 0.4, #Mmin_IR0, Mmin_IRp, IR_sigma_lnM\n",
    "                       11.26, 2.43, 12.5, 0.12 # mu_min0, mu_minp, mu_10, mu_1p\n",
    "                       ])\n",
    "\n",
    "all_params = np.concatenate((hmalphas, shotnoise_all, gal_params, \n",
    "                             prof_params, cib_params))"
   ]
  },
  {
   "cell_type": "code",
   "execution_count": 7,
   "metadata": {},
   "outputs": [
    {
     "ename": "NameError",
     "evalue": "name 'ps' is not defined",
     "output_type": "error",
     "traceback": [
      "\u001b[0;31m---------------------------------------------------------------------------\u001b[0m",
      "\u001b[0;31mNameError\u001b[0m                                 Traceback (most recent call last)",
      "\u001b[1;32m/Users/tkarim/research/galCIB/notebooks/unwise-compare.ipynb Cell 6\u001b[0m in \u001b[0;36m1\n\u001b[0;32m----> <a href='vscode-notebook-cell:/Users/tkarim/research/galCIB/notebooks/unwise-compare.ipynb#W6sZmlsZQ%3D%3D?line=0'>1</a>\u001b[0m c_all_k25_predict \u001b[39m=\u001b[39m ps\u001b[39m.\u001b[39mc_all(theta\u001b[39m=\u001b[39mall_params, \n\u001b[1;32m      <a href='vscode-notebook-cell:/Users/tkarim/research/galCIB/notebooks/unwise-compare.ipynb#W6sZmlsZQ%3D%3D?line=1'>2</a>\u001b[0m                              cib_model\u001b[39m=\u001b[39m\u001b[39m'\u001b[39m\u001b[39mM21\u001b[39m\u001b[39m'\u001b[39m,\n\u001b[1;32m      <a href='vscode-notebook-cell:/Users/tkarim/research/galCIB/notebooks/unwise-compare.ipynb#W6sZmlsZQ%3D%3D?line=2'>3</a>\u001b[0m                              gal_type \u001b[39m=\u001b[39m \u001b[39m'\u001b[39m\u001b[39mUNWISE\u001b[39m\u001b[39m'\u001b[39m)\n",
      "\u001b[0;31mNameError\u001b[0m: name 'ps' is not defined"
     ]
    }
   ],
   "source": [
    "c_all_k25_predict = ps.c_all(theta=all_params, \n",
    "                             cib_model='M21',\n",
    "                             gal_type = 'UNWISE')"
   ]
  },
  {
   "cell_type": "code",
   "execution_count": null,
   "metadata": {},
   "outputs": [],
   "source": []
  }
 ],
 "metadata": {
  "kernelspec": {
   "display_name": "cosmo",
   "language": "python",
   "name": "python3"
  },
  "language_info": {
   "codemirror_mode": {
    "name": "ipython",
    "version": 3
   },
   "file_extension": ".py",
   "mimetype": "text/x-python",
   "name": "python",
   "nbconvert_exporter": "python",
   "pygments_lexer": "ipython3",
   "version": "3.10.11"
  },
  "orig_nbformat": 4
 },
 "nbformat": 4,
 "nbformat_minor": 2
}
